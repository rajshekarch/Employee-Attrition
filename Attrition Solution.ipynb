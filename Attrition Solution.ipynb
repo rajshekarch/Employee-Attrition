{
 "cells": [
  {
   "cell_type": "markdown",
   "metadata": {},
   "source": [
    "# Employee attrition"
   ]
  },
  {
   "cell_type": "markdown",
   "metadata": {},
   "source": [
    "### 1. Defining the problem statement"
   ]
  },
  {
   "cell_type": "markdown",
   "metadata": {},
   "source": [
    "The issue of keeping one's employees happy and satisfied is a perennial and age-old challenge. If an employee you have invested so much time and money leaves for \"greener pastures\", then this would mean that you would have to spend even more time and money to hire somebody else.Therefore turn to our predictive modelling capabilities and see if we can predict employee attrition on this synthetically generated IBM dataset."
   ]
  },
  {
   "cell_type": "markdown",
   "metadata": {},
   "source": [
    "### 2. Exploratory Data Analysis"
   ]
  },
  {
   "cell_type": "markdown",
   "metadata": {},
   "source": [
    "Let us load in the dataset via the trusty Pandas package into a dataframe object and have a quick look at the first few rows"
   ]
  },
  {
   "cell_type": "code",
   "execution_count": 1,
   "metadata": {},
   "outputs": [],
   "source": [
    "import numpy as np \n",
    "import pandas as pd \n",
    "import seaborn as sns\n",
    "import matplotlib.pyplot as plt\n",
    "%matplotlib inline"
   ]
  },
  {
   "cell_type": "code",
   "execution_count": 2,
   "metadata": {},
   "outputs": [],
   "source": [
    "attrition =  pd.read_csv(\"C:/Rajshekar/Project/Employee Attrition/datasets_1067_1925_WA_Fn-UseC_-HR-Employee-Attrition.csv\")"
   ]
  },
  {
   "cell_type": "code",
   "execution_count": 3,
   "metadata": {},
   "outputs": [
    {
     "data": {
      "text/html": [
       "<div>\n",
       "<style scoped>\n",
       "    .dataframe tbody tr th:only-of-type {\n",
       "        vertical-align: middle;\n",
       "    }\n",
       "\n",
       "    .dataframe tbody tr th {\n",
       "        vertical-align: top;\n",
       "    }\n",
       "\n",
       "    .dataframe thead th {\n",
       "        text-align: right;\n",
       "    }\n",
       "</style>\n",
       "<table border=\"1\" class=\"dataframe\">\n",
       "  <thead>\n",
       "    <tr style=\"text-align: right;\">\n",
       "      <th></th>\n",
       "      <th>Age</th>\n",
       "      <th>Attrition</th>\n",
       "      <th>BusinessTravel</th>\n",
       "      <th>DailyRate</th>\n",
       "      <th>Department</th>\n",
       "      <th>DistanceFromHome</th>\n",
       "      <th>Education</th>\n",
       "      <th>EducationField</th>\n",
       "      <th>EmployeeCount</th>\n",
       "      <th>EmployeeNumber</th>\n",
       "      <th>...</th>\n",
       "      <th>RelationshipSatisfaction</th>\n",
       "      <th>StandardHours</th>\n",
       "      <th>StockOptionLevel</th>\n",
       "      <th>TotalWorkingYears</th>\n",
       "      <th>TrainingTimesLastYear</th>\n",
       "      <th>WorkLifeBalance</th>\n",
       "      <th>YearsAtCompany</th>\n",
       "      <th>YearsInCurrentRole</th>\n",
       "      <th>YearsSinceLastPromotion</th>\n",
       "      <th>YearsWithCurrManager</th>\n",
       "    </tr>\n",
       "  </thead>\n",
       "  <tbody>\n",
       "    <tr>\n",
       "      <th>0</th>\n",
       "      <td>41</td>\n",
       "      <td>Yes</td>\n",
       "      <td>Travel_Rarely</td>\n",
       "      <td>1102</td>\n",
       "      <td>Sales</td>\n",
       "      <td>1</td>\n",
       "      <td>2</td>\n",
       "      <td>Life Sciences</td>\n",
       "      <td>1</td>\n",
       "      <td>1</td>\n",
       "      <td>...</td>\n",
       "      <td>1</td>\n",
       "      <td>80</td>\n",
       "      <td>0</td>\n",
       "      <td>8</td>\n",
       "      <td>0</td>\n",
       "      <td>1</td>\n",
       "      <td>6</td>\n",
       "      <td>4</td>\n",
       "      <td>0</td>\n",
       "      <td>5</td>\n",
       "    </tr>\n",
       "    <tr>\n",
       "      <th>1</th>\n",
       "      <td>49</td>\n",
       "      <td>No</td>\n",
       "      <td>Travel_Frequently</td>\n",
       "      <td>279</td>\n",
       "      <td>Research &amp; Development</td>\n",
       "      <td>8</td>\n",
       "      <td>1</td>\n",
       "      <td>Life Sciences</td>\n",
       "      <td>1</td>\n",
       "      <td>2</td>\n",
       "      <td>...</td>\n",
       "      <td>4</td>\n",
       "      <td>80</td>\n",
       "      <td>1</td>\n",
       "      <td>10</td>\n",
       "      <td>3</td>\n",
       "      <td>3</td>\n",
       "      <td>10</td>\n",
       "      <td>7</td>\n",
       "      <td>1</td>\n",
       "      <td>7</td>\n",
       "    </tr>\n",
       "    <tr>\n",
       "      <th>2</th>\n",
       "      <td>37</td>\n",
       "      <td>Yes</td>\n",
       "      <td>Travel_Rarely</td>\n",
       "      <td>1373</td>\n",
       "      <td>Research &amp; Development</td>\n",
       "      <td>2</td>\n",
       "      <td>2</td>\n",
       "      <td>Other</td>\n",
       "      <td>1</td>\n",
       "      <td>4</td>\n",
       "      <td>...</td>\n",
       "      <td>2</td>\n",
       "      <td>80</td>\n",
       "      <td>0</td>\n",
       "      <td>7</td>\n",
       "      <td>3</td>\n",
       "      <td>3</td>\n",
       "      <td>0</td>\n",
       "      <td>0</td>\n",
       "      <td>0</td>\n",
       "      <td>0</td>\n",
       "    </tr>\n",
       "    <tr>\n",
       "      <th>3</th>\n",
       "      <td>33</td>\n",
       "      <td>No</td>\n",
       "      <td>Travel_Frequently</td>\n",
       "      <td>1392</td>\n",
       "      <td>Research &amp; Development</td>\n",
       "      <td>3</td>\n",
       "      <td>4</td>\n",
       "      <td>Life Sciences</td>\n",
       "      <td>1</td>\n",
       "      <td>5</td>\n",
       "      <td>...</td>\n",
       "      <td>3</td>\n",
       "      <td>80</td>\n",
       "      <td>0</td>\n",
       "      <td>8</td>\n",
       "      <td>3</td>\n",
       "      <td>3</td>\n",
       "      <td>8</td>\n",
       "      <td>7</td>\n",
       "      <td>3</td>\n",
       "      <td>0</td>\n",
       "    </tr>\n",
       "    <tr>\n",
       "      <th>4</th>\n",
       "      <td>27</td>\n",
       "      <td>No</td>\n",
       "      <td>Travel_Rarely</td>\n",
       "      <td>591</td>\n",
       "      <td>Research &amp; Development</td>\n",
       "      <td>2</td>\n",
       "      <td>1</td>\n",
       "      <td>Medical</td>\n",
       "      <td>1</td>\n",
       "      <td>7</td>\n",
       "      <td>...</td>\n",
       "      <td>4</td>\n",
       "      <td>80</td>\n",
       "      <td>1</td>\n",
       "      <td>6</td>\n",
       "      <td>3</td>\n",
       "      <td>3</td>\n",
       "      <td>2</td>\n",
       "      <td>2</td>\n",
       "      <td>2</td>\n",
       "      <td>2</td>\n",
       "    </tr>\n",
       "  </tbody>\n",
       "</table>\n",
       "<p>5 rows × 35 columns</p>\n",
       "</div>"
      ],
      "text/plain": [
       "   Age Attrition     BusinessTravel  DailyRate              Department  \\\n",
       "0   41       Yes      Travel_Rarely       1102                   Sales   \n",
       "1   49        No  Travel_Frequently        279  Research & Development   \n",
       "2   37       Yes      Travel_Rarely       1373  Research & Development   \n",
       "3   33        No  Travel_Frequently       1392  Research & Development   \n",
       "4   27        No      Travel_Rarely        591  Research & Development   \n",
       "\n",
       "   DistanceFromHome  Education EducationField  EmployeeCount  EmployeeNumber  \\\n",
       "0                 1          2  Life Sciences              1               1   \n",
       "1                 8          1  Life Sciences              1               2   \n",
       "2                 2          2          Other              1               4   \n",
       "3                 3          4  Life Sciences              1               5   \n",
       "4                 2          1        Medical              1               7   \n",
       "\n",
       "   ...  RelationshipSatisfaction StandardHours  StockOptionLevel  \\\n",
       "0  ...                         1            80                 0   \n",
       "1  ...                         4            80                 1   \n",
       "2  ...                         2            80                 0   \n",
       "3  ...                         3            80                 0   \n",
       "4  ...                         4            80                 1   \n",
       "\n",
       "   TotalWorkingYears  TrainingTimesLastYear WorkLifeBalance  YearsAtCompany  \\\n",
       "0                  8                      0               1               6   \n",
       "1                 10                      3               3              10   \n",
       "2                  7                      3               3               0   \n",
       "3                  8                      3               3               8   \n",
       "4                  6                      3               3               2   \n",
       "\n",
       "  YearsInCurrentRole  YearsSinceLastPromotion  YearsWithCurrManager  \n",
       "0                  4                        0                     5  \n",
       "1                  7                        1                     7  \n",
       "2                  0                        0                     0  \n",
       "3                  7                        3                     0  \n",
       "4                  2                        2                     2  \n",
       "\n",
       "[5 rows x 35 columns]"
      ]
     },
     "execution_count": 3,
     "metadata": {},
     "output_type": "execute_result"
    }
   ],
   "source": [
    "attrition.head()"
   ]
  },
  {
   "cell_type": "code",
   "execution_count": 4,
   "metadata": {},
   "outputs": [
    {
     "data": {
      "text/html": [
       "<div>\n",
       "<style scoped>\n",
       "    .dataframe tbody tr th:only-of-type {\n",
       "        vertical-align: middle;\n",
       "    }\n",
       "\n",
       "    .dataframe tbody tr th {\n",
       "        vertical-align: top;\n",
       "    }\n",
       "\n",
       "    .dataframe thead th {\n",
       "        text-align: right;\n",
       "    }\n",
       "</style>\n",
       "<table border=\"1\" class=\"dataframe\">\n",
       "  <thead>\n",
       "    <tr style=\"text-align: right;\">\n",
       "      <th></th>\n",
       "      <th>Age</th>\n",
       "      <th>DailyRate</th>\n",
       "      <th>DistanceFromHome</th>\n",
       "      <th>Education</th>\n",
       "      <th>EmployeeCount</th>\n",
       "      <th>EmployeeNumber</th>\n",
       "      <th>EnvironmentSatisfaction</th>\n",
       "      <th>HourlyRate</th>\n",
       "      <th>JobInvolvement</th>\n",
       "      <th>JobLevel</th>\n",
       "      <th>...</th>\n",
       "      <th>RelationshipSatisfaction</th>\n",
       "      <th>StandardHours</th>\n",
       "      <th>StockOptionLevel</th>\n",
       "      <th>TotalWorkingYears</th>\n",
       "      <th>TrainingTimesLastYear</th>\n",
       "      <th>WorkLifeBalance</th>\n",
       "      <th>YearsAtCompany</th>\n",
       "      <th>YearsInCurrentRole</th>\n",
       "      <th>YearsSinceLastPromotion</th>\n",
       "      <th>YearsWithCurrManager</th>\n",
       "    </tr>\n",
       "  </thead>\n",
       "  <tbody>\n",
       "    <tr>\n",
       "      <th>count</th>\n",
       "      <td>1470.000000</td>\n",
       "      <td>1470.000000</td>\n",
       "      <td>1470.000000</td>\n",
       "      <td>1470.000000</td>\n",
       "      <td>1470.0</td>\n",
       "      <td>1470.000000</td>\n",
       "      <td>1470.000000</td>\n",
       "      <td>1470.000000</td>\n",
       "      <td>1470.000000</td>\n",
       "      <td>1470.000000</td>\n",
       "      <td>...</td>\n",
       "      <td>1470.000000</td>\n",
       "      <td>1470.0</td>\n",
       "      <td>1470.000000</td>\n",
       "      <td>1470.000000</td>\n",
       "      <td>1470.000000</td>\n",
       "      <td>1470.000000</td>\n",
       "      <td>1470.000000</td>\n",
       "      <td>1470.000000</td>\n",
       "      <td>1470.000000</td>\n",
       "      <td>1470.000000</td>\n",
       "    </tr>\n",
       "    <tr>\n",
       "      <th>mean</th>\n",
       "      <td>36.923810</td>\n",
       "      <td>802.485714</td>\n",
       "      <td>9.192517</td>\n",
       "      <td>2.912925</td>\n",
       "      <td>1.0</td>\n",
       "      <td>1024.865306</td>\n",
       "      <td>2.721769</td>\n",
       "      <td>65.891156</td>\n",
       "      <td>2.729932</td>\n",
       "      <td>2.063946</td>\n",
       "      <td>...</td>\n",
       "      <td>2.712245</td>\n",
       "      <td>80.0</td>\n",
       "      <td>0.793878</td>\n",
       "      <td>11.279592</td>\n",
       "      <td>2.799320</td>\n",
       "      <td>2.761224</td>\n",
       "      <td>7.008163</td>\n",
       "      <td>4.229252</td>\n",
       "      <td>2.187755</td>\n",
       "      <td>4.123129</td>\n",
       "    </tr>\n",
       "    <tr>\n",
       "      <th>std</th>\n",
       "      <td>9.135373</td>\n",
       "      <td>403.509100</td>\n",
       "      <td>8.106864</td>\n",
       "      <td>1.024165</td>\n",
       "      <td>0.0</td>\n",
       "      <td>602.024335</td>\n",
       "      <td>1.093082</td>\n",
       "      <td>20.329428</td>\n",
       "      <td>0.711561</td>\n",
       "      <td>1.106940</td>\n",
       "      <td>...</td>\n",
       "      <td>1.081209</td>\n",
       "      <td>0.0</td>\n",
       "      <td>0.852077</td>\n",
       "      <td>7.780782</td>\n",
       "      <td>1.289271</td>\n",
       "      <td>0.706476</td>\n",
       "      <td>6.126525</td>\n",
       "      <td>3.623137</td>\n",
       "      <td>3.222430</td>\n",
       "      <td>3.568136</td>\n",
       "    </tr>\n",
       "    <tr>\n",
       "      <th>min</th>\n",
       "      <td>18.000000</td>\n",
       "      <td>102.000000</td>\n",
       "      <td>1.000000</td>\n",
       "      <td>1.000000</td>\n",
       "      <td>1.0</td>\n",
       "      <td>1.000000</td>\n",
       "      <td>1.000000</td>\n",
       "      <td>30.000000</td>\n",
       "      <td>1.000000</td>\n",
       "      <td>1.000000</td>\n",
       "      <td>...</td>\n",
       "      <td>1.000000</td>\n",
       "      <td>80.0</td>\n",
       "      <td>0.000000</td>\n",
       "      <td>0.000000</td>\n",
       "      <td>0.000000</td>\n",
       "      <td>1.000000</td>\n",
       "      <td>0.000000</td>\n",
       "      <td>0.000000</td>\n",
       "      <td>0.000000</td>\n",
       "      <td>0.000000</td>\n",
       "    </tr>\n",
       "    <tr>\n",
       "      <th>25%</th>\n",
       "      <td>30.000000</td>\n",
       "      <td>465.000000</td>\n",
       "      <td>2.000000</td>\n",
       "      <td>2.000000</td>\n",
       "      <td>1.0</td>\n",
       "      <td>491.250000</td>\n",
       "      <td>2.000000</td>\n",
       "      <td>48.000000</td>\n",
       "      <td>2.000000</td>\n",
       "      <td>1.000000</td>\n",
       "      <td>...</td>\n",
       "      <td>2.000000</td>\n",
       "      <td>80.0</td>\n",
       "      <td>0.000000</td>\n",
       "      <td>6.000000</td>\n",
       "      <td>2.000000</td>\n",
       "      <td>2.000000</td>\n",
       "      <td>3.000000</td>\n",
       "      <td>2.000000</td>\n",
       "      <td>0.000000</td>\n",
       "      <td>2.000000</td>\n",
       "    </tr>\n",
       "    <tr>\n",
       "      <th>50%</th>\n",
       "      <td>36.000000</td>\n",
       "      <td>802.000000</td>\n",
       "      <td>7.000000</td>\n",
       "      <td>3.000000</td>\n",
       "      <td>1.0</td>\n",
       "      <td>1020.500000</td>\n",
       "      <td>3.000000</td>\n",
       "      <td>66.000000</td>\n",
       "      <td>3.000000</td>\n",
       "      <td>2.000000</td>\n",
       "      <td>...</td>\n",
       "      <td>3.000000</td>\n",
       "      <td>80.0</td>\n",
       "      <td>1.000000</td>\n",
       "      <td>10.000000</td>\n",
       "      <td>3.000000</td>\n",
       "      <td>3.000000</td>\n",
       "      <td>5.000000</td>\n",
       "      <td>3.000000</td>\n",
       "      <td>1.000000</td>\n",
       "      <td>3.000000</td>\n",
       "    </tr>\n",
       "    <tr>\n",
       "      <th>75%</th>\n",
       "      <td>43.000000</td>\n",
       "      <td>1157.000000</td>\n",
       "      <td>14.000000</td>\n",
       "      <td>4.000000</td>\n",
       "      <td>1.0</td>\n",
       "      <td>1555.750000</td>\n",
       "      <td>4.000000</td>\n",
       "      <td>83.750000</td>\n",
       "      <td>3.000000</td>\n",
       "      <td>3.000000</td>\n",
       "      <td>...</td>\n",
       "      <td>4.000000</td>\n",
       "      <td>80.0</td>\n",
       "      <td>1.000000</td>\n",
       "      <td>15.000000</td>\n",
       "      <td>3.000000</td>\n",
       "      <td>3.000000</td>\n",
       "      <td>9.000000</td>\n",
       "      <td>7.000000</td>\n",
       "      <td>3.000000</td>\n",
       "      <td>7.000000</td>\n",
       "    </tr>\n",
       "    <tr>\n",
       "      <th>max</th>\n",
       "      <td>60.000000</td>\n",
       "      <td>1499.000000</td>\n",
       "      <td>29.000000</td>\n",
       "      <td>5.000000</td>\n",
       "      <td>1.0</td>\n",
       "      <td>2068.000000</td>\n",
       "      <td>4.000000</td>\n",
       "      <td>100.000000</td>\n",
       "      <td>4.000000</td>\n",
       "      <td>5.000000</td>\n",
       "      <td>...</td>\n",
       "      <td>4.000000</td>\n",
       "      <td>80.0</td>\n",
       "      <td>3.000000</td>\n",
       "      <td>40.000000</td>\n",
       "      <td>6.000000</td>\n",
       "      <td>4.000000</td>\n",
       "      <td>40.000000</td>\n",
       "      <td>18.000000</td>\n",
       "      <td>15.000000</td>\n",
       "      <td>17.000000</td>\n",
       "    </tr>\n",
       "  </tbody>\n",
       "</table>\n",
       "<p>8 rows × 26 columns</p>\n",
       "</div>"
      ],
      "text/plain": [
       "               Age    DailyRate  DistanceFromHome    Education  EmployeeCount  \\\n",
       "count  1470.000000  1470.000000       1470.000000  1470.000000         1470.0   \n",
       "mean     36.923810   802.485714          9.192517     2.912925            1.0   \n",
       "std       9.135373   403.509100          8.106864     1.024165            0.0   \n",
       "min      18.000000   102.000000          1.000000     1.000000            1.0   \n",
       "25%      30.000000   465.000000          2.000000     2.000000            1.0   \n",
       "50%      36.000000   802.000000          7.000000     3.000000            1.0   \n",
       "75%      43.000000  1157.000000         14.000000     4.000000            1.0   \n",
       "max      60.000000  1499.000000         29.000000     5.000000            1.0   \n",
       "\n",
       "       EmployeeNumber  EnvironmentSatisfaction   HourlyRate  JobInvolvement  \\\n",
       "count     1470.000000              1470.000000  1470.000000     1470.000000   \n",
       "mean      1024.865306                 2.721769    65.891156        2.729932   \n",
       "std        602.024335                 1.093082    20.329428        0.711561   \n",
       "min          1.000000                 1.000000    30.000000        1.000000   \n",
       "25%        491.250000                 2.000000    48.000000        2.000000   \n",
       "50%       1020.500000                 3.000000    66.000000        3.000000   \n",
       "75%       1555.750000                 4.000000    83.750000        3.000000   \n",
       "max       2068.000000                 4.000000   100.000000        4.000000   \n",
       "\n",
       "          JobLevel  ...  RelationshipSatisfaction  StandardHours  \\\n",
       "count  1470.000000  ...               1470.000000         1470.0   \n",
       "mean      2.063946  ...                  2.712245           80.0   \n",
       "std       1.106940  ...                  1.081209            0.0   \n",
       "min       1.000000  ...                  1.000000           80.0   \n",
       "25%       1.000000  ...                  2.000000           80.0   \n",
       "50%       2.000000  ...                  3.000000           80.0   \n",
       "75%       3.000000  ...                  4.000000           80.0   \n",
       "max       5.000000  ...                  4.000000           80.0   \n",
       "\n",
       "       StockOptionLevel  TotalWorkingYears  TrainingTimesLastYear  \\\n",
       "count       1470.000000        1470.000000            1470.000000   \n",
       "mean           0.793878          11.279592               2.799320   \n",
       "std            0.852077           7.780782               1.289271   \n",
       "min            0.000000           0.000000               0.000000   \n",
       "25%            0.000000           6.000000               2.000000   \n",
       "50%            1.000000          10.000000               3.000000   \n",
       "75%            1.000000          15.000000               3.000000   \n",
       "max            3.000000          40.000000               6.000000   \n",
       "\n",
       "       WorkLifeBalance  YearsAtCompany  YearsInCurrentRole  \\\n",
       "count      1470.000000     1470.000000         1470.000000   \n",
       "mean          2.761224        7.008163            4.229252   \n",
       "std           0.706476        6.126525            3.623137   \n",
       "min           1.000000        0.000000            0.000000   \n",
       "25%           2.000000        3.000000            2.000000   \n",
       "50%           3.000000        5.000000            3.000000   \n",
       "75%           3.000000        9.000000            7.000000   \n",
       "max           4.000000       40.000000           18.000000   \n",
       "\n",
       "       YearsSinceLastPromotion  YearsWithCurrManager  \n",
       "count              1470.000000           1470.000000  \n",
       "mean                  2.187755              4.123129  \n",
       "std                   3.222430              3.568136  \n",
       "min                   0.000000              0.000000  \n",
       "25%                   0.000000              2.000000  \n",
       "50%                   1.000000              3.000000  \n",
       "75%                   3.000000              7.000000  \n",
       "max                  15.000000             17.000000  \n",
       "\n",
       "[8 rows x 26 columns]"
      ]
     },
     "execution_count": 4,
     "metadata": {},
     "output_type": "execute_result"
    }
   ],
   "source": [
    "attrition.describe()"
   ]
  },
  {
   "cell_type": "code",
   "execution_count": 5,
   "metadata": {},
   "outputs": [
    {
     "data": {
      "text/plain": [
       "Age                         0\n",
       "Attrition                   0\n",
       "BusinessTravel              0\n",
       "DailyRate                   0\n",
       "Department                  0\n",
       "DistanceFromHome            0\n",
       "Education                   0\n",
       "EducationField              0\n",
       "EmployeeCount               0\n",
       "EmployeeNumber              0\n",
       "EnvironmentSatisfaction     0\n",
       "Gender                      0\n",
       "HourlyRate                  0\n",
       "JobInvolvement              0\n",
       "JobLevel                    0\n",
       "JobRole                     0\n",
       "JobSatisfaction             0\n",
       "MaritalStatus               0\n",
       "MonthlyIncome               0\n",
       "MonthlyRate                 0\n",
       "NumCompaniesWorked          0\n",
       "Over18                      0\n",
       "OverTime                    0\n",
       "PercentSalaryHike           0\n",
       "PerformanceRating           0\n",
       "RelationshipSatisfaction    0\n",
       "StandardHours               0\n",
       "StockOptionLevel            0\n",
       "TotalWorkingYears           0\n",
       "TrainingTimesLastYear       0\n",
       "WorkLifeBalance             0\n",
       "YearsAtCompany              0\n",
       "YearsInCurrentRole          0\n",
       "YearsSinceLastPromotion     0\n",
       "YearsWithCurrManager        0\n",
       "dtype: int64"
      ]
     },
     "execution_count": 5,
     "metadata": {},
     "output_type": "execute_result"
    }
   ],
   "source": [
    "attrition.isnull().sum()"
   ]
  },
  {
   "cell_type": "markdown",
   "metadata": {},
   "source": [
    "### Distribution of the dataset"
   ]
  },
  {
   "cell_type": "markdown",
   "metadata": {},
   "source": [
    "Generally one of the first few steps in exploring the data would be to have a rough idea of how the features are distributed with one another. To do so, I shall invoke the familiar kdeplot function from the Seaborn plotting library and this generates bivariate plots as follows:"
   ]
  },
  {
   "cell_type": "code",
   "execution_count": 6,
   "metadata": {},
   "outputs": [
    {
     "data": {
      "image/png": "[encoded data removed]",
      "text/plain": [
       "<Figure size 720x576 with 9 Axes>"
      ]
     },
     "metadata": {
      "needs_background": "light"
     },
     "output_type": "display_data"
    }
   ],
   "source": [
    "f, axes = plt.subplots(3, 3, figsize=(10, 8), \n",
    "                       sharex=False, sharey=False)\n",
    "\n",
    "\n",
    "s = np.linspace(0, 3, 10)\n",
    "cmap = sns.cubehelix_palette(start=0.0, light=1, as_cmap=True)\n",
    "\n",
    "\n",
    "x = attrition['Age'].values\n",
    "y = attrition['TotalWorkingYears'].values\n",
    "sns.kdeplot(x, y, cmap=cmap, shade=True, cut=5, ax=axes[0,0])\n",
    "axes[0,0].set( title = 'Age against Total working years')\n",
    "\n",
    "cmap = sns.cubehelix_palette(start=0.333333333333, light=1, as_cmap=True)\n",
    "\n",
    "x = attrition['Age'].values\n",
    "y = attrition['DailyRate'].values\n",
    "sns.kdeplot(x, y, cmap=cmap, shade=True, ax=axes[0,1])\n",
    "axes[0,1].set( title = 'Age against Daily Rate')\n",
    "\n",
    "cmap = sns.cubehelix_palette(start=0.666666666667, light=1, as_cmap=True)\n",
    "\n",
    "x = attrition['YearsInCurrentRole'].values\n",
    "y = attrition['Age'].values\n",
    "sns.kdeplot(x, y, cmap=cmap, shade=True, ax=axes[0,2])\n",
    "axes[0,2].set( title = 'Years in role against Age')\n",
    "\n",
    "cmap = sns.cubehelix_palette(start=1.0, light=1, as_cmap=True)\n",
    "\n",
    "x = attrition['DailyRate'].values\n",
    "y = attrition['DistanceFromHome'].values\n",
    "sns.kdeplot(x, y, cmap=cmap, shade=True,  ax=axes[1,0])\n",
    "axes[1,0].set( title = 'Daily Rate against DistancefromHome')\n",
    "\n",
    "cmap = sns.cubehelix_palette(start=1.333333333333, light=1, as_cmap=True)\n",
    "\n",
    "x = attrition['DailyRate'].values\n",
    "y = attrition['JobSatisfaction'].values\n",
    "sns.kdeplot(x, y, cmap=cmap, shade=True,  ax=axes[1,1])\n",
    "axes[1,1].set( title = 'Daily Rate against Job satisfaction')\n",
    "\n",
    "cmap = sns.cubehelix_palette(start=1.666666666667, light=1, as_cmap=True)\n",
    "\n",
    "x = attrition['YearsAtCompany'].values\n",
    "y = attrition['JobSatisfaction'].values\n",
    "sns.kdeplot(x, y, cmap=cmap, shade=True,  ax=axes[1,2])\n",
    "axes[1,2].set( title = 'Daily Rate against distance')\n",
    "\n",
    "cmap = sns.cubehelix_palette(start=2.0, light=1, as_cmap=True)\n",
    "\n",
    "x = attrition['YearsAtCompany'].values\n",
    "y = attrition['DailyRate'].values\n",
    "sns.kdeplot(x, y, cmap=cmap, shade=True,  ax=axes[2,0])\n",
    "axes[2,0].set( title = 'Years at company against Daily Rate')\n",
    "\n",
    "cmap = sns.cubehelix_palette(start=2.333333333333, light=1, as_cmap=True)\n",
    "\n",
    "x = attrition['RelationshipSatisfaction'].values\n",
    "y = attrition['YearsWithCurrManager'].values\n",
    "sns.kdeplot(x, y, cmap=cmap, shade=True,  ax=axes[2,1])\n",
    "axes[2,1].set( title = 'Relationship Satisfaction vs years with manager')\n",
    "\n",
    "cmap = sns.cubehelix_palette(start=2.666666666667, light=1, as_cmap=True)\n",
    "\n",
    "x = attrition['WorkLifeBalance'].values\n",
    "y = attrition['JobSatisfaction'].values\n",
    "sns.kdeplot(x, y, cmap=cmap, shade=True,  ax=axes[2,2])\n",
    "axes[2,2].set( title = 'WorklifeBalance against Satisfaction')\n",
    "\n",
    "f.tight_layout()"
   ]
  },
  {
   "cell_type": "code",
   "execution_count": 7,
   "metadata": {},
   "outputs": [],
   "source": [
    "target_map = {'Yes':1, 'No':0}\n",
    "\n",
    "attrition[\"Attrition_numerical\"] = attrition[\"Attrition\"].apply(lambda x: target_map[x])"
   ]
  },
  {
   "cell_type": "code",
   "execution_count": 8,
   "metadata": {},
   "outputs": [
    {
     "data": {
      "text/html": [
       "        <script type=\"text/javascript\">\n",
       "        window.PlotlyConfig = {MathJaxConfig: 'local'};\n",
       "        if (window.MathJax) {MathJax.Hub.Config({SVG: {font: \"STIX-Web\"}});}\n",
       "        if (typeof require !== 'undefined') {\n",
       "        require.undef(\"plotly\");\n",
       "        requirejs.config({\n",
       "            paths: {\n",
       "                'plotly': ['https://cdn.plot.ly/plotly-latest.min']\n",
       "            }\n",
       "        });\n",
       "        require(['plotly'], function(Plotly) {\n",
       "            window._Plotly = Plotly;\n",
       "        });\n",
       "        }\n",
       "        </script>\n",
       "        "
      ]
     },
     "metadata": {},
     "output_type": "display_data"
    }
   ],
   "source": [
    "import plotly.offline as py\n",
    "py.init_notebook_mode(connected=True)\n",
    "import plotly.graph_objs as go\n",
    "import plotly.tools as tls"
   ]
  },
  {
   "cell_type": "markdown",
   "metadata": {},
   "source": [
    "### Correlation of Features"
   ]
  },
  {
   "cell_type": "markdown",
   "metadata": {},
   "source": [
    "The next tool in a data explorer's arsenal is that of a correlation matrix. By plotting a correlation matrix, we have a very nice overview of how the features are related to one another. For a Pandas dataframe, we can conveniently use the call .corr which by default provides the Pearson Correlation values of the columns pairwise in that dataframe.\n",
    "\n",
    "In this correlation plot, I will use the the Plotly library to produce a interactive Pearson correlation matrix via the Heatmap function as follows:"
   ]
  },
  {
   "cell_type": "code",
   "execution_count": 9,
   "metadata": {},
   "outputs": [
    {
     "data": {
      "application/vnd.plotly.v1+json": {
       "config": {
        "linkText": "Export to plot.ly",
        "plotlyServerURL": "https://plot.ly",
        "showLink": false
       },
       "data": [
        {
         "colorscale": [
          [
           0,
           "#440154"
          ],
          [
           0.1111111111111111,
           "#482878"
          ],
          [
           0.2222222222222222,
           "#3e4989"
          ],
          [
           0.3333333333333333,
           "#31688e"
          ],
          [
           0.4444444444444444,
           "#26828e"
          ],
          [
           0.5555555555555556,
           "#1f9e89"
          ],
          [
           0.6666666666666666,
           "#35b779"
          ],
          [
           0.7777777777777778,
           "#6ece58"
          ],
          [
           0.8888888888888888,
           "#b5de2b"
          ],
          [
           1,
           "#fde725"
          ]
         ],
         "opacity": 1,
         "reversescale": false,
         "type": "heatmap",
         "x": [
          "Age",
          "DailyRate",
          "DistanceFromHome",
          "Education",
          "EmployeeNumber",
          "EnvironmentSatisfaction",
          "HourlyRate",
          "JobInvolvement",
          "JobLevel",
          "JobSatisfaction",
          "MonthlyIncome",
          "MonthlyRate",
          "NumCompaniesWorked",
          "PercentSalaryHike",
          "PerformanceRating",
          "RelationshipSatisfaction",
          "StockOptionLevel",
          "TotalWorkingYears",
          "TrainingTimesLastYear",
          "WorkLifeBalance",
          "YearsAtCompany",
          "YearsInCurrentRole",
          "YearsSinceLastPromotion",
          "YearsWithCurrManager"
         ],
         "y": [
          "Age",
          "DailyRate",
          "DistanceFromHome",
          "Education",
          "EmployeeNumber",
          "EnvironmentSatisfaction",
          "HourlyRate",
          "JobInvolvement",
          "JobLevel",
          "JobSatisfaction",
          "MonthlyIncome",
          "MonthlyRate",
          "NumCompaniesWorked",
          "PercentSalaryHike",
          "PerformanceRating",
          "RelationshipSatisfaction",
          "StockOptionLevel",
          "TotalWorkingYears",
          "TrainingTimesLastYear",
          "WorkLifeBalance",
          "YearsAtCompany",
          "YearsInCurrentRole",
          "YearsSinceLastPromotion",
          "YearsWithCurrManager"
         ],
         "z": [
          [
           1,
           0.010660942645538149,
           -0.0016861201480870135,
           0.20803373101424003,
           -0.010145467076855675,
           0.010146427861437251,
           0.02428654255096734,
           0.02981995862959055,
           0.5096042284323877,
           -0.004891877148687357,
           0.49785456692658075,
           0.028051167133922784,
           0.29963475798369266,
           0.0036335849148617645,
           0.0019038955127583738,
           0.053534719671228664,
           0.0375097124247778,
           0.6803805357911991,
           -0.019620818942698393,
           -0.021490027957098534,
           0.3113087697450993,
           0.21290105556556693,
           0.21651336785165384,
           0.20208860237515222
          ],
          [
           0.010660942645538149,
           1,
           -0.004985337352552674,
           -0.01680643320915765,
           -0.050990433654478126,
           0.018354854300385467,
           0.023381421528320238,
           0.04613487399781132,
           0.0029663348551117142,
           0.03057100783714411,
           0.007707058872006039,
           -0.032181601522581774,
           0.03815343427940969,
           0.022703677496334916,
           0.0004732963271882408,
           0.007846030957248321,
           0.042142796377206686,
           0.014514738706320859,
           0.002452542712083261,
           -0.037848051005781515,
           -0.034054767568547466,
           0.009932014960094184,
           -0.03322898478777197,
           -0.026363178228837648
          ],
          [
           -0.0016861201480870135,
           -0.004985337352552674,
           1,
           0.021041825624123364,
           0.032916407199243866,
           -0.016075326996493465,
           0.031130585611766015,
           0.008783279886444232,
           0.00530273055449623,
           -0.0036688391677204214,
           -0.01701444474527587,
           0.027472863548884053,
           -0.029250804197292986,
           0.04023537745919304,
           0.02710961848197604,
           0.006557474646578711,
           0.044871998853181376,
           0.004628425863783853,
           -0.036942234339916,
           -0.02655600410656897,
           0.009507719899011271,
           0.018844999108945663,
           0.010028835943115365,
           0.014406048430629939
          ],
          [
           0.20803373101424003,
           -0.01680643320915765,
           0.021041825624123364,
           1,
           0.042070093029328424,
           -0.027128313256511653,
           0.016774828880960865,
           0.042437634318608114,
           0.10158888624850132,
           -0.011296116736574009,
           0.09496067704188856,
           -0.026084197160047597,
           0.12631656017668416,
           -0.011110940860654199,
           -0.024538791164833422,
           -0.009118376696381497,
           0.01842222020401694,
           0.14827969653887266,
           -0.025100241137933486,
           0.009819189309781843,
           0.06911369603133874,
           0.060235554120695735,
           0.05425433359132035,
           0.06906537825528397
          ],
          [
           -0.010145467076855675,
           -0.050990433654478126,
           0.032916407199243866,
           0.042070093029328424,
           1,
           0.017620802485588,
           0.035179212418711185,
           -0.006887922987035419,
           -0.018519193974228312,
           -0.046246734939416716,
           -0.014828515873784741,
           0.012648229168459414,
           -0.001251032039801599,
           -0.012943995546151018,
           -0.0203588251469522,
           -0.06986141146763623,
           0.06222669251362312,
           -0.014365198461300408,
           0.02360316959192501,
           0.010308641437966677,
           -0.011240463708114035,
           -0.008416311998425857,
           -0.009019064206633747,
           -0.009196645292770457
          ],
          [
           0.010146427861437251,
           0.018354854300385467,
           -0.016075326996493465,
           -0.027128313256511653,
           0.017620802485588,
           1,
           -0.04985695620300049,
           -0.008277598171759227,
           0.001211699448913975,
           -0.006784352599075191,
           -0.006259087754780221,
           0.03759962286571541,
           0.012594323218943297,
           -0.03170119524179215,
           -0.029547952297681358,
           0.0076653835410744765,
           0.0034321577550576604,
           -0.0026930703885341364,
           -0.019359308347132335,
           0.027627295460115407,
           0.0014575491911166178,
           0.018007460142878566,
           0.016193605568453423,
           -0.0049987226281075076
          ],
          [
           0.02428654255096734,
           0.023381421528320238,
           0.031130585611766015,
           0.016774828880960865,
           0.035179212418711185,
           -0.04985695620300049,
           1,
           0.04286064097152996,
           -0.027853486405547332,
           -0.07133462437378851,
           -0.015794304380892906,
           -0.015296749550649706,
           0.022156883390196815,
           -0.009061986253740113,
           -0.0021716974278102176,
           0.0013304527859505607,
           0.05026339906511977,
           -0.002333681823322244,
           -0.008547685209270621,
           -0.004607233750264436,
           -0.019581616209121213,
           -0.02410622020878486,
           -0.02671558606433533,
           -0.020123200184066038
          ],
          [
           0.02981995862959055,
           0.04613487399781132,
           0.008783279886444232,
           0.042437634318608114,
           -0.006887922987035419,
           -0.008277598171759227,
           0.04286064097152996,
           1,
           -0.012629882671190917,
           -0.02147591033530702,
           -0.015271490778732858,
           -0.016322079053317184,
           0.01501241324311095,
           -0.017204572244480576,
           -0.029071333439070115,
           0.03429682061119727,
           0.021522640378023945,
           -0.005533182057407529,
           -0.015337825759428998,
           -0.014616593162761336,
           -0.02135542697962983,
           0.008716963497611708,
           -0.024184292365178967,
           0.025975807949088905
          ],
          [
           0.5096042284323877,
           0.0029663348551117142,
           0.00530273055449623,
           0.10158888624850132,
           -0.018519193974228312,
           0.001211699448913975,
           -0.027853486405547332,
           -0.012629882671190917,
           1,
           -0.0019437080267456803,
           0.950299913479854,
           0.039562951045684296,
           0.14250112381048835,
           -0.03473049227941859,
           -0.021222082108856632,
           0.021641510532591626,
           0.013983910528615518,
           0.7822078045362802,
           -0.01819055019354957,
           0.03781774559666627,
           0.5347386873756353,
           0.3894467328766716,
           0.35388534696410395,
           0.3752806077657263
          ],
          [
           -0.004891877148687357,
           0.03057100783714411,
           -0.0036688391677204214,
           -0.011296116736574009,
           -0.046246734939416716,
           -0.006784352599075191,
           -0.07133462437378851,
           -0.02147591033530702,
           -0.0019437080267456803,
           1,
           -0.007156742355912731,
           0.0006439169427039258,
           -0.05569942601274601,
           0.020002039364081937,
           0.0022971970637801426,
           -0.012453593161926874,
           0.01069022612075585,
           -0.02018507268501687,
           -0.005779334958609058,
           -0.019458710212974534,
           -0.003802627948288062,
           -0.0023047852298301056,
           -0.018213567810190918,
           -0.02765621388428996
          ],
          [
           0.49785456692658075,
           0.007707058872006039,
           -0.01701444474527587,
           0.09496067704188856,
           -0.014828515873784741,
           -0.006259087754780221,
           -0.015794304380892906,
           -0.015271490778732858,
           0.950299913479854,
           -0.007156742355912731,
           1,
           0.034813626134121846,
           0.14951521598969764,
           -0.027268586440314498,
           -0.017120138237390704,
           0.025873436137557375,
           0.005407676696812226,
           0.7728932462543548,
           -0.021736276823893293,
           0.030683081556940366,
           0.5142848257331964,
           0.36381766692870654,
           0.34497763816542787,
           0.3440788832587207
          ],
          [
           0.028051167133922784,
           -0.032181601522581774,
           0.027472863548884053,
           -0.026084197160047597,
           0.012648229168459414,
           0.03759962286571541,
           -0.015296749550649706,
           -0.016322079053317184,
           0.039562951045684296,
           0.0006439169427039258,
           0.034813626134121846,
           1,
           0.017521353415571556,
           -0.006429345946711349,
           -0.00981142848936072,
           -0.004085329337519465,
           -0.034322830206661034,
           0.026442471176015413,
           0.0014668806322857696,
           0.007963157516976974,
           -0.02365510670617723,
           -0.012814874370471655,
           0.0015667995146762359,
           -0.036745905336769295
          ],
          [
           0.29963475798369266,
           0.03815343427940969,
           -0.029250804197292986,
           0.12631656017668416,
           -0.001251032039801599,
           0.012594323218943297,
           0.022156883390196815,
           0.01501241324311095,
           0.14250112381048835,
           -0.05569942601274601,
           0.14951521598969764,
           0.017521353415571556,
           1,
           -0.010238309359925531,
           -0.014094872753535341,
           0.052733048564885456,
           0.03007547509689753,
           0.23763858978479374,
           -0.06605407172783631,
           -0.008365684790058657,
           -0.11842134024259048,
           -0.09075393370080816,
           -0.03681389238350813,
           -0.11031915543773214
          ],
          [
           0.0036335849148617645,
           0.022703677496334916,
           0.04023537745919304,
           -0.011110940860654199,
           -0.012943995546151018,
           -0.03170119524179215,
           -0.009061986253740113,
           -0.017204572244480576,
           -0.03473049227941859,
           0.020002039364081937,
           -0.027268586440314498,
           -0.006429345946711349,
           -0.010238309359925531,
           1,
           0.7735499964012668,
           -0.0404900810570771,
           0.00752774782052024,
           -0.02060848761769149,
           -0.005221012351720988,
           -0.0032796360093679373,
           -0.03599126243195386,
           -0.0015200265442777384,
           -0.022154312598866084,
           -0.011985248472361218
          ],
          [
           0.0019038955127583738,
           0.0004732963271882408,
           0.02710961848197604,
           -0.024538791164833422,
           -0.0203588251469522,
           -0.029547952297681358,
           -0.0021716974278102176,
           -0.029071333439070115,
           -0.021222082108856632,
           0.0022971970637801426,
           -0.017120138237390704,
           -0.00981142848936072,
           -0.014094872753535341,
           0.7735499964012668,
           1,
           -0.03135145544245493,
           0.003506471614809925,
           0.006743667905952884,
           -0.015578881739137221,
           0.002572361317682325,
           0.003435126115923952,
           0.03498626040719472,
           0.017896066144799612,
           0.022827168908479786
          ],
          [
           0.053534719671228664,
           0.007846030957248321,
           0.006557474646578711,
           -0.009118376696381497,
           -0.06986141146763623,
           0.0076653835410744765,
           0.0013304527859505607,
           0.03429682061119727,
           0.021641510532591626,
           -0.012453593161926874,
           0.025873436137557375,
           -0.004085329337519465,
           0.052733048564885456,
           -0.0404900810570771,
           -0.03135145544245493,
           1,
           -0.04595249071656096,
           0.02405429182134115,
           0.0024965263921170973,
           0.01960440570396862,
           0.019366786877455352,
           -0.015122914881937524,
           0.033492502069353614,
           -0.0008674968446255921
          ],
          [
           0.0375097124247778,
           0.042142796377206686,
           0.044871998853181376,
           0.01842222020401694,
           0.06222669251362312,
           0.0034321577550576604,
           0.05026339906511977,
           0.021522640378023945,
           0.013983910528615518,
           0.01069022612075585,
           0.005407676696812226,
           -0.034322830206661034,
           0.03007547509689753,
           0.00752774782052024,
           0.003506471614809925,
           -0.04595249071656096,
           1,
           0.01013596931890164,
           0.011274069611249013,
           0.004128730002871822,
           0.015058008028094429,
           0.05081787275393108,
           0.014352184864355582,
           0.02469822656302997
          ],
          [
           0.6803805357911991,
           0.014514738706320859,
           0.004628425863783853,
           0.14827969653887266,
           -0.014365198461300408,
           -0.0026930703885341364,
           -0.002333681823322244,
           -0.005533182057407529,
           0.7822078045362802,
           -0.02018507268501687,
           0.7728932462543548,
           0.026442471176015413,
           0.23763858978479374,
           -0.02060848761769149,
           0.006743667905952884,
           0.02405429182134115,
           0.01013596931890164,
           1,
           -0.03566157127961898,
           0.0010076456218964744,
           0.6281331552682479,
           0.4603646380118082,
           0.40485775850255995,
           0.4591883970831438
          ],
          [
           -0.019620818942698393,
           0.002452542712083261,
           -0.036942234339916,
           -0.025100241137933486,
           0.02360316959192501,
           -0.019359308347132335,
           -0.008547685209270621,
           -0.015337825759428998,
           -0.01819055019354957,
           -0.005779334958609058,
           -0.021736276823893293,
           0.0014668806322857696,
           -0.06605407172783631,
           -0.005221012351720988,
           -0.015578881739137221,
           0.0024965263921170973,
           0.011274069611249013,
           -0.03566157127961898,
           1,
           0.028072206603628903,
           0.003568665678427497,
           -0.005737504337956901,
           -0.00206653603800598,
           -0.0040955260212261965
          ],
          [
           -0.021490027957098534,
           -0.037848051005781515,
           -0.02655600410656897,
           0.009819189309781843,
           0.010308641437966677,
           0.027627295460115407,
           -0.004607233750264436,
           -0.014616593162761336,
           0.03781774559666627,
           -0.019458710212974534,
           0.030683081556940366,
           0.007963157516976974,
           -0.008365684790058657,
           -0.0032796360093679373,
           0.002572361317682325,
           0.01960440570396862,
           0.004128730002871822,
           0.0010076456218964744,
           0.028072206603628903,
           1,
           0.012089185354581271,
           0.04985649792220411,
           0.008941249141234248,
           0.002759440242340434
          ],
          [
           0.3113087697450993,
           -0.034054767568547466,
           0.009507719899011271,
           0.06911369603133874,
           -0.011240463708114035,
           0.0014575491911166178,
           -0.019581616209121213,
           -0.02135542697962983,
           0.5347386873756353,
           -0.003802627948288062,
           0.5142848257331964,
           -0.02365510670617723,
           -0.11842134024259048,
           -0.03599126243195386,
           0.003435126115923952,
           0.019366786877455352,
           0.015058008028094429,
           0.6281331552682479,
           0.003568665678427497,
           0.012089185354581271,
           1,
           0.7587537366134616,
           0.618408865217602,
           0.7692124251006991
          ],
          [
           0.21290105556556693,
           0.009932014960094184,
           0.018844999108945663,
           0.060235554120695735,
           -0.008416311998425857,
           0.018007460142878566,
           -0.02410622020878486,
           0.008716963497611708,
           0.3894467328766716,
           -0.0023047852298301056,
           0.36381766692870654,
           -0.012814874370471655,
           -0.09075393370080816,
           -0.0015200265442777384,
           0.03498626040719472,
           -0.015122914881937524,
           0.05081787275393108,
           0.4603646380118082,
           -0.005737504337956901,
           0.04985649792220411,
           0.7587537366134616,
           1,
           0.5480562476995158,
           0.7143647616385903
          ],
          [
           0.21651336785165384,
           -0.03322898478777197,
           0.010028835943115365,
           0.05425433359132035,
           -0.009019064206633747,
           0.016193605568453423,
           -0.02671558606433533,
           -0.024184292365178967,
           0.35388534696410395,
           -0.018213567810190918,
           0.34497763816542787,
           0.0015667995146762359,
           -0.03681389238350813,
           -0.022154312598866084,
           0.017896066144799612,
           0.033492502069353614,
           0.014352184864355582,
           0.40485775850255995,
           -0.00206653603800598,
           0.008941249141234248,
           0.618408865217602,
           0.5480562476995158,
           1,
           0.5102236357788096
          ],
          [
           0.20208860237515222,
           -0.026363178228837648,
           0.014406048430629939,
           0.06906537825528397,
           -0.009196645292770457,
           -0.0049987226281075076,
           -0.020123200184066038,
           0.025975807949088905,
           0.3752806077657263,
           -0.02765621388428996,
           0.3440788832587207,
           -0.036745905336769295,
           -0.11031915543773214,
           -0.011985248472361218,
           0.022827168908479786,
           -0.0008674968446255921,
           0.02469822656302997,
           0.4591883970831438,
           -0.0040955260212261965,
           0.002759440242340434,
           0.7692124251006991,
           0.7143647616385903,
           0.5102236357788096,
           1
          ]
         ]
        }
       ],
       "layout": {
        "height": 700,
        "template": {
         "data": {
          "bar": [
           {
            "error_x": {
             "color": "#2a3f5f"
            },
            "error_y": {
             "color": "#2a3f5f"
            },
            "marker": {
             "line": {
              "color": "#E5ECF6",
              "width": 0.5
             }
            },
            "type": "bar"
           }
          ],
          "barpolar": [
           {
            "marker": {
             "line": {
              "color": "#E5ECF6",
              "width": 0.5
             }
            },
            "type": "barpolar"
           }
          ],
          "carpet": [
           {
            "aaxis": {
             "endlinecolor": "#2a3f5f",
             "gridcolor": "white",
             "linecolor": "white",
             "minorgridcolor": "white",
             "startlinecolor": "#2a3f5f"
            },
            "baxis": {
             "endlinecolor": "#2a3f5f",
             "gridcolor": "white",
             "linecolor": "white",
             "minorgridcolor": "white",
             "startlinecolor": "#2a3f5f"
            },
            "type": "carpet"
           }
          ],
          "choropleth": [
           {
            "colorbar": {
             "outlinewidth": 0,
             "ticks": ""
            },
            "type": "choropleth"
           }
          ],
          "contour": [
           {
            "colorbar": {
             "outlinewidth": 0,
             "ticks": ""
            },
            "colorscale": [
             [
              0,
              "#0d0887"
             ],
             [
              0.1111111111111111,
              "#46039f"
             ],
             [
              0.2222222222222222,
              "#7201a8"
             ],
             [
              0.3333333333333333,
              "#9c179e"
             ],
             [
              0.4444444444444444,
              "#bd3786"
             ],
             [
              0.5555555555555556,
              "#d8576b"
             ],
             [
              0.6666666666666666,
              "#ed7953"
             ],
             [
              0.7777777777777778,
              "#fb9f3a"
             ],
             [
              0.8888888888888888,
              "#fdca26"
             ],
             [
              1,
              "#f0f921"
             ]
            ],
            "type": "contour"
           }
          ],
          "contourcarpet": [
           {
            "colorbar": {
             "outlinewidth": 0,
             "ticks": ""
            },
            "type": "contourcarpet"
           }
          ],
          "heatmap": [
           {
            "colorbar": {
             "outlinewidth": 0,
             "ticks": ""
            },
            "colorscale": [
             [
              0,
              "#0d0887"
             ],
             [
              0.1111111111111111,
              "#46039f"
             ],
             [
              0.2222222222222222,
              "#7201a8"
             ],
             [
              0.3333333333333333,
              "#9c179e"
             ],
             [
              0.4444444444444444,
              "#bd3786"
             ],
             [
              0.5555555555555556,
              "#d8576b"
             ],
             [
              0.6666666666666666,
              "#ed7953"
             ],
             [
              0.7777777777777778,
              "#fb9f3a"
             ],
             [
              0.8888888888888888,
              "#fdca26"
             ],
             [
              1,
              "#f0f921"
             ]
            ],
            "type": "heatmap"
           }
          ],
          "heatmapgl": [
           {
            "colorbar": {
             "outlinewidth": 0,
             "ticks": ""
            },
            "colorscale": [
             [
              0,
              "#0d0887"
             ],
             [
              0.1111111111111111,
              "#46039f"
             ],
             [
              0.2222222222222222,
              "#7201a8"
             ],
             [
              0.3333333333333333,
              "#9c179e"
             ],
             [
              0.4444444444444444,
              "#bd3786"
             ],
             [
              0.5555555555555556,
              "#d8576b"
             ],
             [
              0.6666666666666666,
              "#ed7953"
             ],
             [
              0.7777777777777778,
              "#fb9f3a"
             ],
             [
              0.8888888888888888,
              "#fdca26"
             ],
             [
              1,
              "#f0f921"
             ]
            ],
            "type": "heatmapgl"
           }
          ],
          "histogram": [
           {
            "marker": {
             "colorbar": {
              "outlinewidth": 0,
              "ticks": ""
             }
            },
            "type": "histogram"
           }
          ],
          "histogram2d": [
           {
            "colorbar": {
             "outlinewidth": 0,
             "ticks": ""
            },
            "colorscale": [
             [
              0,
              "#0d0887"
             ],
             [
              0.1111111111111111,
              "#46039f"
             ],
             [
              0.2222222222222222,
              "#7201a8"
             ],
             [
              0.3333333333333333,
              "#9c179e"
             ],
             [
              0.4444444444444444,
              "#bd3786"
             ],
             [
              0.5555555555555556,
              "#d8576b"
             ],
             [
              0.6666666666666666,
              "#ed7953"
             ],
             [
              0.7777777777777778,
              "#fb9f3a"
             ],
             [
              0.8888888888888888,
              "#fdca26"
             ],
             [
              1,
              "#f0f921"
             ]
            ],
            "type": "histogram2d"
           }
          ],
          "histogram2dcontour": [
           {
            "colorbar": {
             "outlinewidth": 0,
             "ticks": ""
            },
            "colorscale": [
             [
              0,
              "#0d0887"
             ],
             [
              0.1111111111111111,
              "#46039f"
             ],
             [
              0.2222222222222222,
              "#7201a8"
             ],
             [
              0.3333333333333333,
              "#9c179e"
             ],
             [
              0.4444444444444444,
              "#bd3786"
             ],
             [
              0.5555555555555556,
              "#d8576b"
             ],
             [
              0.6666666666666666,
              "#ed7953"
             ],
             [
              0.7777777777777778,
              "#fb9f3a"
             ],
             [
              0.8888888888888888,
              "#fdca26"
             ],
             [
              1,
              "#f0f921"
             ]
            ],
            "type": "histogram2dcontour"
           }
          ],
          "mesh3d": [
           {
            "colorbar": {
             "outlinewidth": 0,
             "ticks": ""
            },
            "type": "mesh3d"
           }
          ],
          "parcoords": [
           {
            "line": {
             "colorbar": {
              "outlinewidth": 0,
              "ticks": ""
             }
            },
            "type": "parcoords"
           }
          ],
          "pie": [
           {
            "automargin": true,
            "type": "pie"
           }
          ],
          "scatter": [
           {
            "marker": {
             "colorbar": {
              "outlinewidth": 0,
              "ticks": ""
             }
            },
            "type": "scatter"
           }
          ],
          "scatter3d": [
           {
            "line": {
             "colorbar": {
              "outlinewidth": 0,
              "ticks": ""
             }
            },
            "marker": {
             "colorbar": {
              "outlinewidth": 0,
              "ticks": ""
             }
            },
            "type": "scatter3d"
           }
          ],
          "scattercarpet": [
           {
            "marker": {
             "colorbar": {
              "outlinewidth": 0,
              "ticks": ""
             }
            },
            "type": "scattercarpet"
           }
          ],
          "scattergeo": [
           {
            "marker": {
             "colorbar": {
              "outlinewidth": 0,
              "ticks": ""
             }
            },
            "type": "scattergeo"
           }
          ],
          "scattergl": [
           {
            "marker": {
             "colorbar": {
              "outlinewidth": 0,
              "ticks": ""
             }
            },
            "type": "scattergl"
           }
          ],
          "scattermapbox": [
           {
            "marker": {
             "colorbar": {
              "outlinewidth": 0,
              "ticks": ""
             }
            },
            "type": "scattermapbox"
           }
          ],
          "scatterpolar": [
           {
            "marker": {
             "colorbar": {
              "outlinewidth": 0,
              "ticks": ""
             }
            },
            "type": "scatterpolar"
           }
          ],
          "scatterpolargl": [
           {
            "marker": {
             "colorbar": {
              "outlinewidth": 0,
              "ticks": ""
             }
            },
            "type": "scatterpolargl"
           }
          ],
          "scatterternary": [
           {
            "marker": {
             "colorbar": {
              "outlinewidth": 0,
              "ticks": ""
             }
            },
            "type": "scatterternary"
           }
          ],
          "surface": [
           {
            "colorbar": {
             "outlinewidth": 0,
             "ticks": ""
            },
            "colorscale": [
             [
              0,
              "#0d0887"
             ],
             [
              0.1111111111111111,
              "#46039f"
             ],
             [
              0.2222222222222222,
              "#7201a8"
             ],
             [
              0.3333333333333333,
              "#9c179e"
             ],
             [
              0.4444444444444444,
              "#bd3786"
             ],
             [
              0.5555555555555556,
              "#d8576b"
             ],
             [
              0.6666666666666666,
              "#ed7953"
             ],
             [
              0.7777777777777778,
              "#fb9f3a"
             ],
             [
              0.8888888888888888,
              "#fdca26"
             ],
             [
              1,
              "#f0f921"
             ]
            ],
            "type": "surface"
           }
          ],
          "table": [
           {
            "cells": {
             "fill": {
              "color": "#EBF0F8"
             },
             "line": {
              "color": "white"
             }
            },
            "header": {
             "fill": {
              "color": "#C8D4E3"
             },
             "line": {
              "color": "white"
             }
            },
            "type": "table"
           }
          ]
         },
         "layout": {
          "annotationdefaults": {
           "arrowcolor": "#2a3f5f",
           "arrowhead": 0,
           "arrowwidth": 1
          },
          "coloraxis": {
           "colorbar": {
            "outlinewidth": 0,
            "ticks": ""
           }
          },
          "colorscale": {
           "diverging": [
            [
             0,
             "#8e0152"
            ],
            [
             0.1,
             "#c51b7d"
            ],
            [
             0.2,
             "#de77ae"
            ],
            [
             0.3,
             "#f1b6da"
            ],
            [
             0.4,
             "#fde0ef"
            ],
            [
             0.5,
             "#f7f7f7"
            ],
            [
             0.6,
             "#e6f5d0"
            ],
            [
             0.7,
             "#b8e186"
            ],
            [
             0.8,
             "#7fbc41"
            ],
            [
             0.9,
             "#4d9221"
            ],
            [
             1,
             "#276419"
            ]
           ],
           "sequential": [
            [
             0,
             "#0d0887"
            ],
            [
             0.1111111111111111,
             "#46039f"
            ],
            [
             0.2222222222222222,
             "#7201a8"
            ],
            [
             0.3333333333333333,
             "#9c179e"
            ],
            [
             0.4444444444444444,
             "#bd3786"
            ],
            [
             0.5555555555555556,
             "#d8576b"
            ],
            [
             0.6666666666666666,
             "#ed7953"
            ],
            [
             0.7777777777777778,
             "#fb9f3a"
            ],
            [
             0.8888888888888888,
             "#fdca26"
            ],
            [
             1,
             "#f0f921"
            ]
           ],
           "sequentialminus": [
            [
             0,
             "#0d0887"
            ],
            [
             0.1111111111111111,
             "#46039f"
            ],
            [
             0.2222222222222222,
             "#7201a8"
            ],
            [
             0.3333333333333333,
             "#9c179e"
            ],
            [
             0.4444444444444444,
             "#bd3786"
            ],
            [
             0.5555555555555556,
             "#d8576b"
            ],
            [
             0.6666666666666666,
             "#ed7953"
            ],
            [
             0.7777777777777778,
             "#fb9f3a"
            ],
            [
             0.8888888888888888,
             "#fdca26"
            ],
            [
             1,
             "#f0f921"
            ]
           ]
          },
          "colorway": [
           "#636efa",
           "#EF553B",
           "#00cc96",
           "#ab63fa",
           "#FFA15A",
           "#19d3f3",
           "#FF6692",
           "#B6E880",
           "#FF97FF",
           "#FECB52"
          ],
          "font": {
           "color": "#2a3f5f"
          },
          "geo": {
           "bgcolor": "white",
           "lakecolor": "white",
           "landcolor": "#E5ECF6",
           "showlakes": true,
           "showland": true,
           "subunitcolor": "white"
          },
          "hoverlabel": {
           "align": "left"
          },
          "hovermode": "closest",
          "mapbox": {
           "style": "light"
          },
          "paper_bgcolor": "white",
          "plot_bgcolor": "#E5ECF6",
          "polar": {
           "angularaxis": {
            "gridcolor": "white",
            "linecolor": "white",
            "ticks": ""
           },
           "bgcolor": "#E5ECF6",
           "radialaxis": {
            "gridcolor": "white",
            "linecolor": "white",
            "ticks": ""
           }
          },
          "scene": {
           "xaxis": {
            "backgroundcolor": "#E5ECF6",
            "gridcolor": "white",
            "gridwidth": 2,
            "linecolor": "white",
            "showbackground": true,
            "ticks": "",
            "zerolinecolor": "white"
           },
           "yaxis": {
            "backgroundcolor": "#E5ECF6",
            "gridcolor": "white",
            "gridwidth": 2,
            "linecolor": "white",
            "showbackground": true,
            "ticks": "",
            "zerolinecolor": "white"
           },
           "zaxis": {
            "backgroundcolor": "#E5ECF6",
            "gridcolor": "white",
            "gridwidth": 2,
            "linecolor": "white",
            "showbackground": true,
            "ticks": "",
            "zerolinecolor": "white"
           }
          },
          "shapedefaults": {
           "line": {
            "color": "#2a3f5f"
           }
          },
          "ternary": {
           "aaxis": {
            "gridcolor": "white",
            "linecolor": "white",
            "ticks": ""
           },
           "baxis": {
            "gridcolor": "white",
            "linecolor": "white",
            "ticks": ""
           },
           "bgcolor": "#E5ECF6",
           "caxis": {
            "gridcolor": "white",
            "linecolor": "white",
            "ticks": ""
           }
          },
          "title": {
           "x": 0.05
          },
          "xaxis": {
           "automargin": true,
           "gridcolor": "white",
           "linecolor": "white",
           "ticks": "",
           "title": {
            "standoff": 15
           },
           "zerolinecolor": "white",
           "zerolinewidth": 2
          },
          "yaxis": {
           "automargin": true,
           "gridcolor": "white",
           "linecolor": "white",
           "ticks": "",
           "title": {
            "standoff": 15
           },
           "zerolinecolor": "white",
           "zerolinewidth": 2
          }
         }
        },
        "title": {
         "text": "Pearson Correlation of numerical features"
        },
        "width": 900,
        "xaxis": {
         "nticks": 36,
         "ticks": ""
        },
        "yaxis": {
         "ticks": ""
        }
       }
      },
      "text/html": [
       "<div>\n",
       "        \n",
       "        \n",
       "            <div id=\"23be6b3f-3732-4a05-b6d3-7eac4abe9360\" class=\"plotly-graph-div\" style=\"height:700px; width:900px;\"></div>\n",
       "            <script type=\"text/javascript\">\n",
       "                require([\"plotly\"], function(Plotly) {\n",
       "                    window.PLOTLYENV=window.PLOTLYENV || {};\n",
       "                    \n",
       "                if (document.getElementById(\"23be6b3f-3732-4a05-b6d3-7eac4abe9360\")) {\n",
       "                    Plotly.newPlot(\n",
       "                        '23be6b3f-3732-4a05-b6d3-7eac4abe9360',\n",
       "                        [{\"colorscale\": [[0.0, \"#440154\"], [0.1111111111111111, \"#482878\"], [0.2222222222222222, \"#3e4989\"], [0.3333333333333333, \"#31688e\"], [0.4444444444444444, \"#26828e\"], [0.5555555555555556, \"#1f9e89\"], [0.6666666666666666, \"#35b779\"], [0.7777777777777778, \"#6ece58\"], [0.8888888888888888, \"#b5de2b\"], [1.0, \"#fde725\"]], \"opacity\": 1.0, \"reversescale\": false, \"type\": \"heatmap\", \"x\": [\"Age\", \"DailyRate\", \"DistanceFromHome\", \"Education\", \"EmployeeNumber\", \"EnvironmentSatisfaction\", \"HourlyRate\", \"JobInvolvement\", \"JobLevel\", \"JobSatisfaction\", \"MonthlyIncome\", \"MonthlyRate\", \"NumCompaniesWorked\", \"PercentSalaryHike\", \"PerformanceRating\", \"RelationshipSatisfaction\", \"StockOptionLevel\", \"TotalWorkingYears\", \"TrainingTimesLastYear\", \"WorkLifeBalance\", \"YearsAtCompany\", \"YearsInCurrentRole\", \"YearsSinceLastPromotion\", \"YearsWithCurrManager\"], \"y\": [\"Age\", \"DailyRate\", \"DistanceFromHome\", \"Education\", \"EmployeeNumber\", \"EnvironmentSatisfaction\", \"HourlyRate\", \"JobInvolvement\", \"JobLevel\", \"JobSatisfaction\", \"MonthlyIncome\", \"MonthlyRate\", \"NumCompaniesWorked\", \"PercentSalaryHike\", \"PerformanceRating\", \"RelationshipSatisfaction\", \"StockOptionLevel\", \"TotalWorkingYears\", \"TrainingTimesLastYear\", \"WorkLifeBalance\", \"YearsAtCompany\", \"YearsInCurrentRole\", \"YearsSinceLastPromotion\", \"YearsWithCurrManager\"], \"z\": [[1.0, 0.010660942645538149, -0.0016861201480870135, 0.20803373101424003, -0.010145467076855675, 0.010146427861437251, 0.02428654255096734, 0.02981995862959055, 0.5096042284323877, -0.004891877148687357, 0.49785456692658075, 0.028051167133922784, 0.29963475798369266, 0.0036335849148617645, 0.0019038955127583738, 0.053534719671228664, 0.0375097124247778, 0.6803805357911991, -0.019620818942698393, -0.021490027957098534, 0.3113087697450993, 0.21290105556556693, 0.21651336785165384, 0.20208860237515222], [0.010660942645538149, 1.0, -0.004985337352552674, -0.01680643320915765, -0.050990433654478126, 0.018354854300385467, 0.023381421528320238, 0.04613487399781132, 0.0029663348551117142, 0.03057100783714411, 0.007707058872006039, -0.032181601522581774, 0.03815343427940969, 0.022703677496334916, 0.0004732963271882408, 0.007846030957248321, 0.042142796377206686, 0.014514738706320859, 0.002452542712083261, -0.037848051005781515, -0.034054767568547466, 0.009932014960094184, -0.03322898478777197, -0.026363178228837648], [-0.0016861201480870135, -0.004985337352552674, 1.0, 0.021041825624123364, 0.032916407199243866, -0.016075326996493465, 0.031130585611766015, 0.008783279886444232, 0.00530273055449623, -0.0036688391677204214, -0.01701444474527587, 0.027472863548884053, -0.029250804197292986, 0.04023537745919304, 0.02710961848197604, 0.006557474646578711, 0.044871998853181376, 0.004628425863783853, -0.036942234339916, -0.02655600410656897, 0.009507719899011271, 0.018844999108945663, 0.010028835943115365, 0.014406048430629939], [0.20803373101424003, -0.01680643320915765, 0.021041825624123364, 1.0, 0.042070093029328424, -0.027128313256511653, 0.016774828880960865, 0.042437634318608114, 0.10158888624850132, -0.011296116736574009, 0.09496067704188856, -0.026084197160047597, 0.12631656017668416, -0.011110940860654199, -0.024538791164833422, -0.009118376696381497, 0.01842222020401694, 0.14827969653887266, -0.025100241137933486, 0.009819189309781843, 0.06911369603133874, 0.060235554120695735, 0.05425433359132035, 0.06906537825528397], [-0.010145467076855675, -0.050990433654478126, 0.032916407199243866, 0.042070093029328424, 1.0, 0.017620802485588, 0.035179212418711185, -0.006887922987035419, -0.018519193974228312, -0.046246734939416716, -0.014828515873784741, 0.012648229168459414, -0.001251032039801599, -0.012943995546151018, -0.0203588251469522, -0.06986141146763623, 0.06222669251362312, -0.014365198461300408, 0.02360316959192501, 0.010308641437966677, -0.011240463708114035, -0.008416311998425857, -0.009019064206633747, -0.009196645292770457], [0.010146427861437251, 0.018354854300385467, -0.016075326996493465, -0.027128313256511653, 0.017620802485588, 1.0, -0.04985695620300049, -0.008277598171759227, 0.001211699448913975, -0.006784352599075191, -0.006259087754780221, 0.03759962286571541, 0.012594323218943297, -0.03170119524179215, -0.029547952297681358, 0.0076653835410744765, 0.0034321577550576604, -0.0026930703885341364, -0.019359308347132335, 0.027627295460115407, 0.0014575491911166178, 0.018007460142878566, 0.016193605568453423, -0.0049987226281075076], [0.02428654255096734, 0.023381421528320238, 0.031130585611766015, 0.016774828880960865, 0.035179212418711185, -0.04985695620300049, 1.0, 0.04286064097152996, -0.027853486405547332, -0.07133462437378851, -0.015794304380892906, -0.015296749550649706, 0.022156883390196815, -0.009061986253740113, -0.0021716974278102176, 0.0013304527859505607, 0.05026339906511977, -0.002333681823322244, -0.008547685209270621, -0.004607233750264436, -0.019581616209121213, -0.02410622020878486, -0.02671558606433533, -0.020123200184066038], [0.02981995862959055, 0.04613487399781132, 0.008783279886444232, 0.042437634318608114, -0.006887922987035419, -0.008277598171759227, 0.04286064097152996, 1.0, -0.012629882671190917, -0.02147591033530702, -0.015271490778732858, -0.016322079053317184, 0.01501241324311095, -0.017204572244480576, -0.029071333439070115, 0.03429682061119727, 0.021522640378023945, -0.005533182057407529, -0.015337825759428998, -0.014616593162761336, -0.02135542697962983, 0.008716963497611708, -0.024184292365178967, 0.025975807949088905], [0.5096042284323877, 0.0029663348551117142, 0.00530273055449623, 0.10158888624850132, -0.018519193974228312, 0.001211699448913975, -0.027853486405547332, -0.012629882671190917, 1.0, -0.0019437080267456803, 0.950299913479854, 0.039562951045684296, 0.14250112381048835, -0.03473049227941859, -0.021222082108856632, 0.021641510532591626, 0.013983910528615518, 0.7822078045362802, -0.01819055019354957, 0.03781774559666627, 0.5347386873756353, 0.3894467328766716, 0.35388534696410395, 0.3752806077657263], [-0.004891877148687357, 0.03057100783714411, -0.0036688391677204214, -0.011296116736574009, -0.046246734939416716, -0.006784352599075191, -0.07133462437378851, -0.02147591033530702, -0.0019437080267456803, 1.0, -0.007156742355912731, 0.0006439169427039258, -0.05569942601274601, 0.020002039364081937, 0.0022971970637801426, -0.012453593161926874, 0.01069022612075585, -0.02018507268501687, -0.005779334958609058, -0.019458710212974534, -0.003802627948288062, -0.0023047852298301056, -0.018213567810190918, -0.02765621388428996], [0.49785456692658075, 0.007707058872006039, -0.01701444474527587, 0.09496067704188856, -0.014828515873784741, -0.006259087754780221, -0.015794304380892906, -0.015271490778732858, 0.950299913479854, -0.007156742355912731, 1.0, 0.034813626134121846, 0.14951521598969764, -0.027268586440314498, -0.017120138237390704, 0.025873436137557375, 0.005407676696812226, 0.7728932462543548, -0.021736276823893293, 0.030683081556940366, 0.5142848257331964, 0.36381766692870654, 0.34497763816542787, 0.3440788832587207], [0.028051167133922784, -0.032181601522581774, 0.027472863548884053, -0.026084197160047597, 0.012648229168459414, 0.03759962286571541, -0.015296749550649706, -0.016322079053317184, 0.039562951045684296, 0.0006439169427039258, 0.034813626134121846, 1.0, 0.017521353415571556, -0.006429345946711349, -0.00981142848936072, -0.004085329337519465, -0.034322830206661034, 0.026442471176015413, 0.0014668806322857696, 0.007963157516976974, -0.02365510670617723, -0.012814874370471655, 0.0015667995146762359, -0.036745905336769295], [0.29963475798369266, 0.03815343427940969, -0.029250804197292986, 0.12631656017668416, -0.001251032039801599, 0.012594323218943297, 0.022156883390196815, 0.01501241324311095, 0.14250112381048835, -0.05569942601274601, 0.14951521598969764, 0.017521353415571556, 1.0, -0.010238309359925531, -0.014094872753535341, 0.052733048564885456, 0.03007547509689753, 0.23763858978479374, -0.06605407172783631, -0.008365684790058657, -0.11842134024259048, -0.09075393370080816, -0.03681389238350813, -0.11031915543773214], [0.0036335849148617645, 0.022703677496334916, 0.04023537745919304, -0.011110940860654199, -0.012943995546151018, -0.03170119524179215, -0.009061986253740113, -0.017204572244480576, -0.03473049227941859, 0.020002039364081937, -0.027268586440314498, -0.006429345946711349, -0.010238309359925531, 1.0, 0.7735499964012668, -0.0404900810570771, 0.00752774782052024, -0.02060848761769149, -0.005221012351720988, -0.0032796360093679373, -0.03599126243195386, -0.0015200265442777384, -0.022154312598866084, -0.011985248472361218], [0.0019038955127583738, 0.0004732963271882408, 0.02710961848197604, -0.024538791164833422, -0.0203588251469522, -0.029547952297681358, -0.0021716974278102176, -0.029071333439070115, -0.021222082108856632, 0.0022971970637801426, -0.017120138237390704, -0.00981142848936072, -0.014094872753535341, 0.7735499964012668, 1.0, -0.03135145544245493, 0.003506471614809925, 0.006743667905952884, -0.015578881739137221, 0.002572361317682325, 0.003435126115923952, 0.03498626040719472, 0.017896066144799612, 0.022827168908479786], [0.053534719671228664, 0.007846030957248321, 0.006557474646578711, -0.009118376696381497, -0.06986141146763623, 0.0076653835410744765, 0.0013304527859505607, 0.03429682061119727, 0.021641510532591626, -0.012453593161926874, 0.025873436137557375, -0.004085329337519465, 0.052733048564885456, -0.0404900810570771, -0.03135145544245493, 1.0, -0.04595249071656096, 0.02405429182134115, 0.0024965263921170973, 0.01960440570396862, 0.019366786877455352, -0.015122914881937524, 0.033492502069353614, -0.0008674968446255921], [0.0375097124247778, 0.042142796377206686, 0.044871998853181376, 0.01842222020401694, 0.06222669251362312, 0.0034321577550576604, 0.05026339906511977, 0.021522640378023945, 0.013983910528615518, 0.01069022612075585, 0.005407676696812226, -0.034322830206661034, 0.03007547509689753, 0.00752774782052024, 0.003506471614809925, -0.04595249071656096, 1.0, 0.01013596931890164, 0.011274069611249013, 0.004128730002871822, 0.015058008028094429, 0.05081787275393108, 0.014352184864355582, 0.02469822656302997], [0.6803805357911991, 0.014514738706320859, 0.004628425863783853, 0.14827969653887266, -0.014365198461300408, -0.0026930703885341364, -0.002333681823322244, -0.005533182057407529, 0.7822078045362802, -0.02018507268501687, 0.7728932462543548, 0.026442471176015413, 0.23763858978479374, -0.02060848761769149, 0.006743667905952884, 0.02405429182134115, 0.01013596931890164, 1.0, -0.03566157127961898, 0.0010076456218964744, 0.6281331552682479, 0.4603646380118082, 0.40485775850255995, 0.4591883970831438], [-0.019620818942698393, 0.002452542712083261, -0.036942234339916, -0.025100241137933486, 0.02360316959192501, -0.019359308347132335, -0.008547685209270621, -0.015337825759428998, -0.01819055019354957, -0.005779334958609058, -0.021736276823893293, 0.0014668806322857696, -0.06605407172783631, -0.005221012351720988, -0.015578881739137221, 0.0024965263921170973, 0.011274069611249013, -0.03566157127961898, 1.0, 0.028072206603628903, 0.003568665678427497, -0.005737504337956901, -0.00206653603800598, -0.0040955260212261965], [-0.021490027957098534, -0.037848051005781515, -0.02655600410656897, 0.009819189309781843, 0.010308641437966677, 0.027627295460115407, -0.004607233750264436, -0.014616593162761336, 0.03781774559666627, -0.019458710212974534, 0.030683081556940366, 0.007963157516976974, -0.008365684790058657, -0.0032796360093679373, 0.002572361317682325, 0.01960440570396862, 0.004128730002871822, 0.0010076456218964744, 0.028072206603628903, 1.0, 0.012089185354581271, 0.04985649792220411, 0.008941249141234248, 0.002759440242340434], [0.3113087697450993, -0.034054767568547466, 0.009507719899011271, 0.06911369603133874, -0.011240463708114035, 0.0014575491911166178, -0.019581616209121213, -0.02135542697962983, 0.5347386873756353, -0.003802627948288062, 0.5142848257331964, -0.02365510670617723, -0.11842134024259048, -0.03599126243195386, 0.003435126115923952, 0.019366786877455352, 0.015058008028094429, 0.6281331552682479, 0.003568665678427497, 0.012089185354581271, 1.0, 0.7587537366134616, 0.618408865217602, 0.7692124251006991], [0.21290105556556693, 0.009932014960094184, 0.018844999108945663, 0.060235554120695735, -0.008416311998425857, 0.018007460142878566, -0.02410622020878486, 0.008716963497611708, 0.3894467328766716, -0.0023047852298301056, 0.36381766692870654, -0.012814874370471655, -0.09075393370080816, -0.0015200265442777384, 0.03498626040719472, -0.015122914881937524, 0.05081787275393108, 0.4603646380118082, -0.005737504337956901, 0.04985649792220411, 0.7587537366134616, 1.0, 0.5480562476995158, 0.7143647616385903], [0.21651336785165384, -0.03322898478777197, 0.010028835943115365, 0.05425433359132035, -0.009019064206633747, 0.016193605568453423, -0.02671558606433533, -0.024184292365178967, 0.35388534696410395, -0.018213567810190918, 0.34497763816542787, 0.0015667995146762359, -0.03681389238350813, -0.022154312598866084, 0.017896066144799612, 0.033492502069353614, 0.014352184864355582, 0.40485775850255995, -0.00206653603800598, 0.008941249141234248, 0.618408865217602, 0.5480562476995158, 1.0, 0.5102236357788096], [0.20208860237515222, -0.026363178228837648, 0.014406048430629939, 0.06906537825528397, -0.009196645292770457, -0.0049987226281075076, -0.020123200184066038, 0.025975807949088905, 0.3752806077657263, -0.02765621388428996, 0.3440788832587207, -0.036745905336769295, -0.11031915543773214, -0.011985248472361218, 0.022827168908479786, -0.0008674968446255921, 0.02469822656302997, 0.4591883970831438, -0.0040955260212261965, 0.002759440242340434, 0.7692124251006991, 0.7143647616385903, 0.5102236357788096, 1.0]]}],\n",
       "                        {\"height\": 700, \"template\": {\"data\": {\"bar\": [{\"error_x\": {\"color\": \"#2a3f5f\"}, \"error_y\": {\"color\": \"#2a3f5f\"}, \"marker\": {\"line\": {\"color\": \"#E5ECF6\", \"width\": 0.5}}, \"type\": \"bar\"}], \"barpolar\": [{\"marker\": {\"line\": {\"color\": \"#E5ECF6\", \"width\": 0.5}}, \"type\": \"barpolar\"}], \"carpet\": [{\"aaxis\": {\"endlinecolor\": \"#2a3f5f\", \"gridcolor\": \"white\", \"linecolor\": \"white\", \"minorgridcolor\": \"white\", \"startlinecolor\": \"#2a3f5f\"}, \"baxis\": {\"endlinecolor\": \"#2a3f5f\", \"gridcolor\": \"white\", \"linecolor\": \"white\", \"minorgridcolor\": \"white\", \"startlinecolor\": \"#2a3f5f\"}, \"type\": \"carpet\"}], \"choropleth\": [{\"colorbar\": {\"outlinewidth\": 0, \"ticks\": \"\"}, \"type\": \"choropleth\"}], \"contour\": [{\"colorbar\": {\"outlinewidth\": 0, \"ticks\": \"\"}, \"colorscale\": [[0.0, \"#0d0887\"], [0.1111111111111111, \"#46039f\"], [0.2222222222222222, \"#7201a8\"], [0.3333333333333333, \"#9c179e\"], [0.4444444444444444, \"#bd3786\"], [0.5555555555555556, \"#d8576b\"], [0.6666666666666666, \"#ed7953\"], [0.7777777777777778, \"#fb9f3a\"], [0.8888888888888888, \"#fdca26\"], [1.0, \"#f0f921\"]], \"type\": \"contour\"}], \"contourcarpet\": [{\"colorbar\": {\"outlinewidth\": 0, \"ticks\": \"\"}, \"type\": \"contourcarpet\"}], \"heatmap\": [{\"colorbar\": {\"outlinewidth\": 0, \"ticks\": \"\"}, \"colorscale\": [[0.0, \"#0d0887\"], [0.1111111111111111, \"#46039f\"], [0.2222222222222222, \"#7201a8\"], [0.3333333333333333, \"#9c179e\"], [0.4444444444444444, \"#bd3786\"], [0.5555555555555556, \"#d8576b\"], [0.6666666666666666, \"#ed7953\"], [0.7777777777777778, \"#fb9f3a\"], [0.8888888888888888, \"#fdca26\"], [1.0, \"#f0f921\"]], \"type\": \"heatmap\"}], \"heatmapgl\": [{\"colorbar\": {\"outlinewidth\": 0, \"ticks\": \"\"}, \"colorscale\": [[0.0, \"#0d0887\"], [0.1111111111111111, \"#46039f\"], [0.2222222222222222, \"#7201a8\"], [0.3333333333333333, \"#9c179e\"], [0.4444444444444444, \"#bd3786\"], [0.5555555555555556, \"#d8576b\"], [0.6666666666666666, \"#ed7953\"], [0.7777777777777778, \"#fb9f3a\"], [0.8888888888888888, \"#fdca26\"], [1.0, \"#f0f921\"]], \"type\": \"heatmapgl\"}], \"histogram\": [{\"marker\": {\"colorbar\": {\"outlinewidth\": 0, \"ticks\": \"\"}}, \"type\": \"histogram\"}], \"histogram2d\": [{\"colorbar\": {\"outlinewidth\": 0, \"ticks\": \"\"}, \"colorscale\": [[0.0, \"#0d0887\"], [0.1111111111111111, \"#46039f\"], [0.2222222222222222, \"#7201a8\"], [0.3333333333333333, \"#9c179e\"], [0.4444444444444444, \"#bd3786\"], [0.5555555555555556, \"#d8576b\"], [0.6666666666666666, \"#ed7953\"], [0.7777777777777778, \"#fb9f3a\"], [0.8888888888888888, \"#fdca26\"], [1.0, \"#f0f921\"]], \"type\": \"histogram2d\"}], \"histogram2dcontour\": [{\"colorbar\": {\"outlinewidth\": 0, \"ticks\": \"\"}, \"colorscale\": [[0.0, \"#0d0887\"], [0.1111111111111111, \"#46039f\"], [0.2222222222222222, \"#7201a8\"], [0.3333333333333333, \"#9c179e\"], [0.4444444444444444, \"#bd3786\"], [0.5555555555555556, \"#d8576b\"], [0.6666666666666666, \"#ed7953\"], [0.7777777777777778, \"#fb9f3a\"], [0.8888888888888888, \"#fdca26\"], [1.0, \"#f0f921\"]], \"type\": \"histogram2dcontour\"}], \"mesh3d\": [{\"colorbar\": {\"outlinewidth\": 0, \"ticks\": \"\"}, \"type\": \"mesh3d\"}], \"parcoords\": [{\"line\": {\"colorbar\": {\"outlinewidth\": 0, \"ticks\": \"\"}}, \"type\": \"parcoords\"}], \"pie\": [{\"automargin\": true, \"type\": \"pie\"}], \"scatter\": [{\"marker\": {\"colorbar\": {\"outlinewidth\": 0, \"ticks\": \"\"}}, \"type\": \"scatter\"}], \"scatter3d\": [{\"line\": {\"colorbar\": {\"outlinewidth\": 0, \"ticks\": \"\"}}, \"marker\": {\"colorbar\": {\"outlinewidth\": 0, \"ticks\": \"\"}}, \"type\": \"scatter3d\"}], \"scattercarpet\": [{\"marker\": {\"colorbar\": {\"outlinewidth\": 0, \"ticks\": \"\"}}, \"type\": \"scattercarpet\"}], \"scattergeo\": [{\"marker\": {\"colorbar\": {\"outlinewidth\": 0, \"ticks\": \"\"}}, \"type\": \"scattergeo\"}], \"scattergl\": [{\"marker\": {\"colorbar\": {\"outlinewidth\": 0, \"ticks\": \"\"}}, \"type\": \"scattergl\"}], \"scattermapbox\": [{\"marker\": {\"colorbar\": {\"outlinewidth\": 0, \"ticks\": \"\"}}, \"type\": \"scattermapbox\"}], \"scatterpolar\": [{\"marker\": {\"colorbar\": {\"outlinewidth\": 0, \"ticks\": \"\"}}, \"type\": \"scatterpolar\"}], \"scatterpolargl\": [{\"marker\": {\"colorbar\": {\"outlinewidth\": 0, \"ticks\": \"\"}}, \"type\": \"scatterpolargl\"}], \"scatterternary\": [{\"marker\": {\"colorbar\": {\"outlinewidth\": 0, \"ticks\": \"\"}}, \"type\": \"scatterternary\"}], \"surface\": [{\"colorbar\": {\"outlinewidth\": 0, \"ticks\": \"\"}, \"colorscale\": [[0.0, \"#0d0887\"], [0.1111111111111111, \"#46039f\"], [0.2222222222222222, \"#7201a8\"], [0.3333333333333333, \"#9c179e\"], [0.4444444444444444, \"#bd3786\"], [0.5555555555555556, \"#d8576b\"], [0.6666666666666666, \"#ed7953\"], [0.7777777777777778, \"#fb9f3a\"], [0.8888888888888888, \"#fdca26\"], [1.0, \"#f0f921\"]], \"type\": \"surface\"}], \"table\": [{\"cells\": {\"fill\": {\"color\": \"#EBF0F8\"}, \"line\": {\"color\": \"white\"}}, \"header\": {\"fill\": {\"color\": \"#C8D4E3\"}, \"line\": {\"color\": \"white\"}}, \"type\": \"table\"}]}, \"layout\": {\"annotationdefaults\": {\"arrowcolor\": \"#2a3f5f\", \"arrowhead\": 0, \"arrowwidth\": 1}, \"coloraxis\": {\"colorbar\": {\"outlinewidth\": 0, \"ticks\": \"\"}}, \"colorscale\": {\"diverging\": [[0, \"#8e0152\"], [0.1, \"#c51b7d\"], [0.2, \"#de77ae\"], [0.3, \"#f1b6da\"], [0.4, \"#fde0ef\"], [0.5, \"#f7f7f7\"], [0.6, \"#e6f5d0\"], [0.7, \"#b8e186\"], [0.8, \"#7fbc41\"], [0.9, \"#4d9221\"], [1, \"#276419\"]], \"sequential\": [[0.0, \"#0d0887\"], [0.1111111111111111, \"#46039f\"], [0.2222222222222222, \"#7201a8\"], [0.3333333333333333, \"#9c179e\"], [0.4444444444444444, \"#bd3786\"], [0.5555555555555556, \"#d8576b\"], [0.6666666666666666, \"#ed7953\"], [0.7777777777777778, \"#fb9f3a\"], [0.8888888888888888, \"#fdca26\"], [1.0, \"#f0f921\"]], \"sequentialminus\": [[0.0, \"#0d0887\"], [0.1111111111111111, \"#46039f\"], [0.2222222222222222, \"#7201a8\"], [0.3333333333333333, \"#9c179e\"], [0.4444444444444444, \"#bd3786\"], [0.5555555555555556, \"#d8576b\"], [0.6666666666666666, \"#ed7953\"], [0.7777777777777778, \"#fb9f3a\"], [0.8888888888888888, \"#fdca26\"], [1.0, \"#f0f921\"]]}, \"colorway\": [\"#636efa\", \"#EF553B\", \"#00cc96\", \"#ab63fa\", \"#FFA15A\", \"#19d3f3\", \"#FF6692\", \"#B6E880\", \"#FF97FF\", \"#FECB52\"], \"font\": {\"color\": \"#2a3f5f\"}, \"geo\": {\"bgcolor\": \"white\", \"lakecolor\": \"white\", \"landcolor\": \"#E5ECF6\", \"showlakes\": true, \"showland\": true, \"subunitcolor\": \"white\"}, \"hoverlabel\": {\"align\": \"left\"}, \"hovermode\": \"closest\", \"mapbox\": {\"style\": \"light\"}, \"paper_bgcolor\": \"white\", \"plot_bgcolor\": \"#E5ECF6\", \"polar\": {\"angularaxis\": {\"gridcolor\": \"white\", \"linecolor\": \"white\", \"ticks\": \"\"}, \"bgcolor\": \"#E5ECF6\", \"radialaxis\": {\"gridcolor\": \"white\", \"linecolor\": \"white\", \"ticks\": \"\"}}, \"scene\": {\"xaxis\": {\"backgroundcolor\": \"#E5ECF6\", \"gridcolor\": \"white\", \"gridwidth\": 2, \"linecolor\": \"white\", \"showbackground\": true, \"ticks\": \"\", \"zerolinecolor\": \"white\"}, \"yaxis\": {\"backgroundcolor\": \"#E5ECF6\", \"gridcolor\": \"white\", \"gridwidth\": 2, \"linecolor\": \"white\", \"showbackground\": true, \"ticks\": \"\", \"zerolinecolor\": \"white\"}, \"zaxis\": {\"backgroundcolor\": \"#E5ECF6\", \"gridcolor\": \"white\", \"gridwidth\": 2, \"linecolor\": \"white\", \"showbackground\": true, \"ticks\": \"\", \"zerolinecolor\": \"white\"}}, \"shapedefaults\": {\"line\": {\"color\": \"#2a3f5f\"}}, \"ternary\": {\"aaxis\": {\"gridcolor\": \"white\", \"linecolor\": \"white\", \"ticks\": \"\"}, \"baxis\": {\"gridcolor\": \"white\", \"linecolor\": \"white\", \"ticks\": \"\"}, \"bgcolor\": \"#E5ECF6\", \"caxis\": {\"gridcolor\": \"white\", \"linecolor\": \"white\", \"ticks\": \"\"}}, \"title\": {\"x\": 0.05}, \"xaxis\": {\"automargin\": true, \"gridcolor\": \"white\", \"linecolor\": \"white\", \"ticks\": \"\", \"title\": {\"standoff\": 15}, \"zerolinecolor\": \"white\", \"zerolinewidth\": 2}, \"yaxis\": {\"automargin\": true, \"gridcolor\": \"white\", \"linecolor\": \"white\", \"ticks\": \"\", \"title\": {\"standoff\": 15}, \"zerolinecolor\": \"white\", \"zerolinewidth\": 2}}}, \"title\": {\"text\": \"Pearson Correlation of numerical features\"}, \"width\": 900, \"xaxis\": {\"nticks\": 36, \"ticks\": \"\"}, \"yaxis\": {\"ticks\": \"\"}},\n",
       "                        {\"responsive\": true}\n",
       "                    ).then(function(){\n",
       "                            \n",
       "var gd = document.getElementById('23be6b3f-3732-4a05-b6d3-7eac4abe9360');\n",
       "var x = new MutationObserver(function (mutations, observer) {{\n",
       "        var display = window.getComputedStyle(gd).display;\n",
       "        if (!display || display === 'none') {{\n",
       "            console.log([gd, 'removed!']);\n",
       "            Plotly.purge(gd);\n",
       "            observer.disconnect();\n",
       "        }}\n",
       "}});\n",
       "\n",
       "// Listen for the removal of the full notebook cells\n",
       "var notebookContainer = gd.closest('#notebook-container');\n",
       "if (notebookContainer) {{\n",
       "    x.observe(notebookContainer, {childList: true});\n",
       "}}\n",
       "\n",
       "// Listen for the clearing of the current output cell\n",
       "var outputEl = gd.closest('.output');\n",
       "if (outputEl) {{\n",
       "    x.observe(outputEl, {childList: true});\n",
       "}}\n",
       "\n",
       "                        })\n",
       "                };\n",
       "                });\n",
       "            </script>\n",
       "        </div>"
      ]
     },
     "metadata": {},
     "output_type": "display_data"
    }
   ],
   "source": [
    "numerical = [u'Age', u'DailyRate', u'DistanceFromHome', \n",
    "             u'Education', u'EmployeeNumber', u'EnvironmentSatisfaction',\n",
    "             u'HourlyRate', u'JobInvolvement', u'JobLevel', u'JobSatisfaction',\n",
    "             u'MonthlyIncome', u'MonthlyRate', u'NumCompaniesWorked',\n",
    "             u'PercentSalaryHike', u'PerformanceRating', u'RelationshipSatisfaction',\n",
    "             u'StockOptionLevel', u'TotalWorkingYears',\n",
    "             u'TrainingTimesLastYear', u'WorkLifeBalance', u'YearsAtCompany',\n",
    "             u'YearsInCurrentRole', u'YearsSinceLastPromotion',u'YearsWithCurrManager']\n",
    "data = [\n",
    "    go.Heatmap(\n",
    "        z= attrition[numerical].astype(float).corr().values, # Generating the Pearson correlation\n",
    "        x=attrition[numerical].columns.values,\n",
    "        y=attrition[numerical].columns.values,\n",
    "        colorscale='Viridis',\n",
    "        reversescale = False,\n",
    "#         text = True ,\n",
    "        opacity = 1.0\n",
    "        \n",
    "    )\n",
    "]\n",
    "\n",
    "\n",
    "layout = go.Layout(\n",
    "    title='Pearson Correlation of numerical features',\n",
    "    xaxis = dict(ticks='', nticks=36),\n",
    "    yaxis = dict(ticks='' ),\n",
    "    width = 900, height = 700,\n",
    "    \n",
    ")\n",
    "\n",
    "\n",
    "fig = go.Figure(data=data, layout=layout)\n",
    "py.iplot(fig, filename='labelled-heatmap')"
   ]
  },
  {
   "cell_type": "markdown",
   "metadata": {},
   "source": [
    "### Takeaway from the plots"
   ]
  },
  {
   "cell_type": "markdown",
   "metadata": {},
   "source": [
    "From the correlation plots, we can see that quite a lot of our columns seem to be poorly correlated with one another. Generally when making a predictive model, it would be preferable to train a model with features that are not too correlated with one another so that we do not need to deal with redundant features. In the case that we have quite a lot of correlated features one could perhaps apply a technique such as Principal Component Analysis (PCA) to reduce the feature space."
   ]
  },
  {
   "cell_type": "markdown",
   "metadata": {},
   "source": [
    "### Pairplot Visualisations"
   ]
  },
  {
   "cell_type": "markdown",
   "metadata": {},
   "source": [
    "Now let us create some Seaborn pairplots and set it against the target variable which is our Attrition column to get a feel for how the various features are distributed vis-a-vis employee attrition"
   ]
  },
  {
   "cell_type": "code",
   "execution_count": 10,
   "metadata": {},
   "outputs": [],
   "source": [
    "numerical = [u'Age', u'DailyRate',  u'JobSatisfaction',\n",
    "       u'MonthlyIncome', u'PerformanceRating',\n",
    "        u'WorkLifeBalance', u'YearsAtCompany', u'Attrition_numerical']"
   ]
  },
  {
   "cell_type": "markdown",
   "metadata": {},
   "source": [
    "## 3. Feature Engineering"
   ]
  },
  {
   "cell_type": "markdown",
   "metadata": {},
   "source": [
    "Having carried out a brief exploration into the dataset, let us now proceed onto the task of Feature engineering and numerically encoding the categorical values in our dataset. Feature engineering in a nutshell involves creating new features and relationships from the current features that we have. Feature engineering has been quite"
   ]
  },
  {
   "cell_type": "markdown",
   "metadata": {},
   "source": [
    "To start off, we shall segregate numerical columns from categorical columns via the use of the dtype method as follows:"
   ]
  },
  {
   "cell_type": "code",
   "execution_count": 11,
   "metadata": {},
   "outputs": [],
   "source": [
    "attrition = attrition.drop(['Attrition_numerical'], axis=1)"
   ]
  },
  {
   "cell_type": "code",
   "execution_count": 12,
   "metadata": {},
   "outputs": [],
   "source": [
    "categorical = []\n",
    "for col, value in attrition.iteritems():\n",
    "    if value.dtype == 'object':\n",
    "        categorical.append(col)"
   ]
  },
  {
   "cell_type": "code",
   "execution_count": 13,
   "metadata": {},
   "outputs": [],
   "source": [
    "numerical = attrition.columns.difference(categorical)"
   ]
  },
  {
   "cell_type": "markdown",
   "metadata": {},
   "source": [
    "Having identified which of our features contain categorical data, we can set about numerically encoding the data. To do this, I shall use the get_dummies method from Pandas which creates encoded dummy variables from the categorical variables."
   ]
  },
  {
   "cell_type": "code",
   "execution_count": 14,
   "metadata": {},
   "outputs": [],
   "source": [
    "attrition_cat = attrition[categorical]\n",
    "attrition_cat = attrition_cat.drop(['Attrition'], axis=1)"
   ]
  },
  {
   "cell_type": "code",
   "execution_count": 15,
   "metadata": {},
   "outputs": [
    {
     "data": {
      "text/html": [
       "<div>\n",
       "<style scoped>\n",
       "    .dataframe tbody tr th:only-of-type {\n",
       "        vertical-align: middle;\n",
       "    }\n",
       "\n",
       "    .dataframe tbody tr th {\n",
       "        vertical-align: top;\n",
       "    }\n",
       "\n",
       "    .dataframe thead th {\n",
       "        text-align: right;\n",
       "    }\n",
       "</style>\n",
       "<table border=\"1\" class=\"dataframe\">\n",
       "  <thead>\n",
       "    <tr style=\"text-align: right;\">\n",
       "      <th></th>\n",
       "      <th>BusinessTravel_Non-Travel</th>\n",
       "      <th>BusinessTravel_Travel_Frequently</th>\n",
       "      <th>BusinessTravel_Travel_Rarely</th>\n",
       "      <th>Department_Human Resources</th>\n",
       "      <th>Department_Research &amp; Development</th>\n",
       "      <th>Department_Sales</th>\n",
       "      <th>EducationField_Human Resources</th>\n",
       "      <th>EducationField_Life Sciences</th>\n",
       "      <th>EducationField_Marketing</th>\n",
       "      <th>EducationField_Medical</th>\n",
       "      <th>...</th>\n",
       "      <th>JobRole_Research Director</th>\n",
       "      <th>JobRole_Research Scientist</th>\n",
       "      <th>JobRole_Sales Executive</th>\n",
       "      <th>JobRole_Sales Representative</th>\n",
       "      <th>MaritalStatus_Divorced</th>\n",
       "      <th>MaritalStatus_Married</th>\n",
       "      <th>MaritalStatus_Single</th>\n",
       "      <th>Over18_Y</th>\n",
       "      <th>OverTime_No</th>\n",
       "      <th>OverTime_Yes</th>\n",
       "    </tr>\n",
       "  </thead>\n",
       "  <tbody>\n",
       "    <tr>\n",
       "      <th>0</th>\n",
       "      <td>0</td>\n",
       "      <td>0</td>\n",
       "      <td>1</td>\n",
       "      <td>0</td>\n",
       "      <td>0</td>\n",
       "      <td>1</td>\n",
       "      <td>0</td>\n",
       "      <td>1</td>\n",
       "      <td>0</td>\n",
       "      <td>0</td>\n",
       "      <td>...</td>\n",
       "      <td>0</td>\n",
       "      <td>0</td>\n",
       "      <td>1</td>\n",
       "      <td>0</td>\n",
       "      <td>0</td>\n",
       "      <td>0</td>\n",
       "      <td>1</td>\n",
       "      <td>1</td>\n",
       "      <td>0</td>\n",
       "      <td>1</td>\n",
       "    </tr>\n",
       "    <tr>\n",
       "      <th>1</th>\n",
       "      <td>0</td>\n",
       "      <td>1</td>\n",
       "      <td>0</td>\n",
       "      <td>0</td>\n",
       "      <td>1</td>\n",
       "      <td>0</td>\n",
       "      <td>0</td>\n",
       "      <td>1</td>\n",
       "      <td>0</td>\n",
       "      <td>0</td>\n",
       "      <td>...</td>\n",
       "      <td>0</td>\n",
       "      <td>1</td>\n",
       "      <td>0</td>\n",
       "      <td>0</td>\n",
       "      <td>0</td>\n",
       "      <td>1</td>\n",
       "      <td>0</td>\n",
       "      <td>1</td>\n",
       "      <td>1</td>\n",
       "      <td>0</td>\n",
       "    </tr>\n",
       "    <tr>\n",
       "      <th>2</th>\n",
       "      <td>0</td>\n",
       "      <td>0</td>\n",
       "      <td>1</td>\n",
       "      <td>0</td>\n",
       "      <td>1</td>\n",
       "      <td>0</td>\n",
       "      <td>0</td>\n",
       "      <td>0</td>\n",
       "      <td>0</td>\n",
       "      <td>0</td>\n",
       "      <td>...</td>\n",
       "      <td>0</td>\n",
       "      <td>0</td>\n",
       "      <td>0</td>\n",
       "      <td>0</td>\n",
       "      <td>0</td>\n",
       "      <td>0</td>\n",
       "      <td>1</td>\n",
       "      <td>1</td>\n",
       "      <td>0</td>\n",
       "      <td>1</td>\n",
       "    </tr>\n",
       "    <tr>\n",
       "      <th>3</th>\n",
       "      <td>0</td>\n",
       "      <td>1</td>\n",
       "      <td>0</td>\n",
       "      <td>0</td>\n",
       "      <td>1</td>\n",
       "      <td>0</td>\n",
       "      <td>0</td>\n",
       "      <td>1</td>\n",
       "      <td>0</td>\n",
       "      <td>0</td>\n",
       "      <td>...</td>\n",
       "      <td>0</td>\n",
       "      <td>1</td>\n",
       "      <td>0</td>\n",
       "      <td>0</td>\n",
       "      <td>0</td>\n",
       "      <td>1</td>\n",
       "      <td>0</td>\n",
       "      <td>1</td>\n",
       "      <td>0</td>\n",
       "      <td>1</td>\n",
       "    </tr>\n",
       "    <tr>\n",
       "      <th>4</th>\n",
       "      <td>0</td>\n",
       "      <td>0</td>\n",
       "      <td>1</td>\n",
       "      <td>0</td>\n",
       "      <td>1</td>\n",
       "      <td>0</td>\n",
       "      <td>0</td>\n",
       "      <td>0</td>\n",
       "      <td>0</td>\n",
       "      <td>1</td>\n",
       "      <td>...</td>\n",
       "      <td>0</td>\n",
       "      <td>0</td>\n",
       "      <td>0</td>\n",
       "      <td>0</td>\n",
       "      <td>0</td>\n",
       "      <td>1</td>\n",
       "      <td>0</td>\n",
       "      <td>1</td>\n",
       "      <td>1</td>\n",
       "      <td>0</td>\n",
       "    </tr>\n",
       "  </tbody>\n",
       "</table>\n",
       "<p>5 rows × 29 columns</p>\n",
       "</div>"
      ],
      "text/plain": [
       "   BusinessTravel_Non-Travel  BusinessTravel_Travel_Frequently  \\\n",
       "0                          0                                 0   \n",
       "1                          0                                 1   \n",
       "2                          0                                 0   \n",
       "3                          0                                 1   \n",
       "4                          0                                 0   \n",
       "\n",
       "   BusinessTravel_Travel_Rarely  Department_Human Resources  \\\n",
       "0                             1                           0   \n",
       "1                             0                           0   \n",
       "2                             1                           0   \n",
       "3                             0                           0   \n",
       "4                             1                           0   \n",
       "\n",
       "   Department_Research & Development  Department_Sales  \\\n",
       "0                                  0                 1   \n",
       "1                                  1                 0   \n",
       "2                                  1                 0   \n",
       "3                                  1                 0   \n",
       "4                                  1                 0   \n",
       "\n",
       "   EducationField_Human Resources  EducationField_Life Sciences  \\\n",
       "0                               0                             1   \n",
       "1                               0                             1   \n",
       "2                               0                             0   \n",
       "3                               0                             1   \n",
       "4                               0                             0   \n",
       "\n",
       "   EducationField_Marketing  EducationField_Medical  ...  \\\n",
       "0                         0                       0  ...   \n",
       "1                         0                       0  ...   \n",
       "2                         0                       0  ...   \n",
       "3                         0                       0  ...   \n",
       "4                         0                       1  ...   \n",
       "\n",
       "   JobRole_Research Director  JobRole_Research Scientist  \\\n",
       "0                          0                           0   \n",
       "1                          0                           1   \n",
       "2                          0                           0   \n",
       "3                          0                           1   \n",
       "4                          0                           0   \n",
       "\n",
       "   JobRole_Sales Executive  JobRole_Sales Representative  \\\n",
       "0                        1                             0   \n",
       "1                        0                             0   \n",
       "2                        0                             0   \n",
       "3                        0                             0   \n",
       "4                        0                             0   \n",
       "\n",
       "   MaritalStatus_Divorced  MaritalStatus_Married  MaritalStatus_Single  \\\n",
       "0                       0                      0                     1   \n",
       "1                       0                      1                     0   \n",
       "2                       0                      0                     1   \n",
       "3                       0                      1                     0   \n",
       "4                       0                      1                     0   \n",
       "\n",
       "   Over18_Y  OverTime_No  OverTime_Yes  \n",
       "0         1            0             1  \n",
       "1         1            1             0  \n",
       "2         1            0             1  \n",
       "3         1            0             1  \n",
       "4         1            1             0  \n",
       "\n",
       "[5 rows x 29 columns]"
      ]
     },
     "execution_count": 15,
     "metadata": {},
     "output_type": "execute_result"
    }
   ],
   "source": [
    "attrition_cat = pd.get_dummies(attrition_cat)\n",
    "attrition_cat.head()"
   ]
  },
  {
   "cell_type": "code",
   "execution_count": 16,
   "metadata": {},
   "outputs": [],
   "source": [
    "attrition_num = attrition[numerical]"
   ]
  },
  {
   "cell_type": "markdown",
   "metadata": {},
   "source": [
    "Having encoded our categorical columns as well as engineering and created some new features from the numerical data, we can now proceed to merging both dataframes into a final set with which we will train and test our models on."
   ]
  },
  {
   "cell_type": "code",
   "execution_count": 17,
   "metadata": {},
   "outputs": [],
   "source": [
    "attrition_final = pd.concat([attrition_num, attrition_cat], axis=1)"
   ]
  },
  {
   "cell_type": "markdown",
   "metadata": {},
   "source": [
    "Target variable\n",
    "\n",
    "One final step that that we have to remember is to generate our target variable. The target in this case is given by the column Attrition which contains categorical variables therefore requires numerical encoding. We numerically encode it by creating a dictionary with the mapping given as 1 : Yes and 0 : No"
   ]
  },
  {
   "cell_type": "code",
   "execution_count": 18,
   "metadata": {},
   "outputs": [
    {
     "data": {
      "text/plain": [
       "0    1\n",
       "1    0\n",
       "2    1\n",
       "3    0\n",
       "4    0\n",
       "Name: Attrition, dtype: int64"
      ]
     },
     "execution_count": 18,
     "metadata": {},
     "output_type": "execute_result"
    }
   ],
   "source": [
    "target_map = {'Yes':1, 'No':0}\n",
    "target = attrition[\"Attrition\"].apply(lambda x: target_map[x])\n",
    "target.head()"
   ]
  },
  {
   "cell_type": "code",
   "execution_count": 19,
   "metadata": {},
   "outputs": [
    {
     "data": {
      "application/vnd.plotly.v1+json": {
       "config": {
        "linkText": "Export to plot.ly",
        "plotlyServerURL": "https://plot.ly",
        "showLink": false
       },
       "data": [
        {
         "type": "bar",
         "x": [
          "No",
          "Yes"
         ],
         "y": [
          1233,
          237
         ]
        }
       ],
       "layout": {
        "template": {
         "data": {
          "bar": [
           {
            "error_x": {
             "color": "#2a3f5f"
            },
            "error_y": {
             "color": "#2a3f5f"
            },
            "marker": {
             "line": {
              "color": "#E5ECF6",
              "width": 0.5
             }
            },
            "type": "bar"
           }
          ],
          "barpolar": [
           {
            "marker": {
             "line": {
              "color": "#E5ECF6",
              "width": 0.5
             }
            },
            "type": "barpolar"
           }
          ],
          "carpet": [
           {
            "aaxis": {
             "endlinecolor": "#2a3f5f",
             "gridcolor": "white",
             "linecolor": "white",
             "minorgridcolor": "white",
             "startlinecolor": "#2a3f5f"
            },
            "baxis": {
             "endlinecolor": "#2a3f5f",
             "gridcolor": "white",
             "linecolor": "white",
             "minorgridcolor": "white",
             "startlinecolor": "#2a3f5f"
            },
            "type": "carpet"
           }
          ],
          "choropleth": [
           {
            "colorbar": {
             "outlinewidth": 0,
             "ticks": ""
            },
            "type": "choropleth"
           }
          ],
          "contour": [
           {
            "colorbar": {
             "outlinewidth": 0,
             "ticks": ""
            },
            "colorscale": [
             [
              0,
              "#0d0887"
             ],
             [
              0.1111111111111111,
              "#46039f"
             ],
             [
              0.2222222222222222,
              "#7201a8"
             ],
             [
              0.3333333333333333,
              "#9c179e"
             ],
             [
              0.4444444444444444,
              "#bd3786"
             ],
             [
              0.5555555555555556,
              "#d8576b"
             ],
             [
              0.6666666666666666,
              "#ed7953"
             ],
             [
              0.7777777777777778,
              "#fb9f3a"
             ],
             [
              0.8888888888888888,
              "#fdca26"
             ],
             [
              1,
              "#f0f921"
             ]
            ],
            "type": "contour"
           }
          ],
          "contourcarpet": [
           {
            "colorbar": {
             "outlinewidth": 0,
             "ticks": ""
            },
            "type": "contourcarpet"
           }
          ],
          "heatmap": [
           {
            "colorbar": {
             "outlinewidth": 0,
             "ticks": ""
            },
            "colorscale": [
             [
              0,
              "#0d0887"
             ],
             [
              0.1111111111111111,
              "#46039f"
             ],
             [
              0.2222222222222222,
              "#7201a8"
             ],
             [
              0.3333333333333333,
              "#9c179e"
             ],
             [
              0.4444444444444444,
              "#bd3786"
             ],
             [
              0.5555555555555556,
              "#d8576b"
             ],
             [
              0.6666666666666666,
              "#ed7953"
             ],
             [
              0.7777777777777778,
              "#fb9f3a"
             ],
             [
              0.8888888888888888,
              "#fdca26"
             ],
             [
              1,
              "#f0f921"
             ]
            ],
            "type": "heatmap"
           }
          ],
          "heatmapgl": [
           {
            "colorbar": {
             "outlinewidth": 0,
             "ticks": ""
            },
            "colorscale": [
             [
              0,
              "#0d0887"
             ],
             [
              0.1111111111111111,
              "#46039f"
             ],
             [
              0.2222222222222222,
              "#7201a8"
             ],
             [
              0.3333333333333333,
              "#9c179e"
             ],
             [
              0.4444444444444444,
              "#bd3786"
             ],
             [
              0.5555555555555556,
              "#d8576b"
             ],
             [
              0.6666666666666666,
              "#ed7953"
             ],
             [
              0.7777777777777778,
              "#fb9f3a"
             ],
             [
              0.8888888888888888,
              "#fdca26"
             ],
             [
              1,
              "#f0f921"
             ]
            ],
            "type": "heatmapgl"
           }
          ],
          "histogram": [
           {
            "marker": {
             "colorbar": {
              "outlinewidth": 0,
              "ticks": ""
             }
            },
            "type": "histogram"
           }
          ],
          "histogram2d": [
           {
            "colorbar": {
             "outlinewidth": 0,
             "ticks": ""
            },
            "colorscale": [
             [
              0,
              "#0d0887"
             ],
             [
              0.1111111111111111,
              "#46039f"
             ],
             [
              0.2222222222222222,
              "#7201a8"
             ],
             [
              0.3333333333333333,
              "#9c179e"
             ],
             [
              0.4444444444444444,
              "#bd3786"
             ],
             [
              0.5555555555555556,
              "#d8576b"
             ],
             [
              0.6666666666666666,
              "#ed7953"
             ],
             [
              0.7777777777777778,
              "#fb9f3a"
             ],
             [
              0.8888888888888888,
              "#fdca26"
             ],
             [
              1,
              "#f0f921"
             ]
            ],
            "type": "histogram2d"
           }
          ],
          "histogram2dcontour": [
           {
            "colorbar": {
             "outlinewidth": 0,
             "ticks": ""
            },
            "colorscale": [
             [
              0,
              "#0d0887"
             ],
             [
              0.1111111111111111,
              "#46039f"
             ],
             [
              0.2222222222222222,
              "#7201a8"
             ],
             [
              0.3333333333333333,
              "#9c179e"
             ],
             [
              0.4444444444444444,
              "#bd3786"
             ],
             [
              0.5555555555555556,
              "#d8576b"
             ],
             [
              0.6666666666666666,
              "#ed7953"
             ],
             [
              0.7777777777777778,
              "#fb9f3a"
             ],
             [
              0.8888888888888888,
              "#fdca26"
             ],
             [
              1,
              "#f0f921"
             ]
            ],
            "type": "histogram2dcontour"
           }
          ],
          "mesh3d": [
           {
            "colorbar": {
             "outlinewidth": 0,
             "ticks": ""
            },
            "type": "mesh3d"
           }
          ],
          "parcoords": [
           {
            "line": {
             "colorbar": {
              "outlinewidth": 0,
              "ticks": ""
             }
            },
            "type": "parcoords"
           }
          ],
          "pie": [
           {
            "automargin": true,
            "type": "pie"
           }
          ],
          "scatter": [
           {
            "marker": {
             "colorbar": {
              "outlinewidth": 0,
              "ticks": ""
             }
            },
            "type": "scatter"
           }
          ],
          "scatter3d": [
           {
            "line": {
             "colorbar": {
              "outlinewidth": 0,
              "ticks": ""
             }
            },
            "marker": {
             "colorbar": {
              "outlinewidth": 0,
              "ticks": ""
             }
            },
            "type": "scatter3d"
           }
          ],
          "scattercarpet": [
           {
            "marker": {
             "colorbar": {
              "outlinewidth": 0,
              "ticks": ""
             }
            },
            "type": "scattercarpet"
           }
          ],
          "scattergeo": [
           {
            "marker": {
             "colorbar": {
              "outlinewidth": 0,
              "ticks": ""
             }
            },
            "type": "scattergeo"
           }
          ],
          "scattergl": [
           {
            "marker": {
             "colorbar": {
              "outlinewidth": 0,
              "ticks": ""
             }
            },
            "type": "scattergl"
           }
          ],
          "scattermapbox": [
           {
            "marker": {
             "colorbar": {
              "outlinewidth": 0,
              "ticks": ""
             }
            },
            "type": "scattermapbox"
           }
          ],
          "scatterpolar": [
           {
            "marker": {
             "colorbar": {
              "outlinewidth": 0,
              "ticks": ""
             }
            },
            "type": "scatterpolar"
           }
          ],
          "scatterpolargl": [
           {
            "marker": {
             "colorbar": {
              "outlinewidth": 0,
              "ticks": ""
             }
            },
            "type": "scatterpolargl"
           }
          ],
          "scatterternary": [
           {
            "marker": {
             "colorbar": {
              "outlinewidth": 0,
              "ticks": ""
             }
            },
            "type": "scatterternary"
           }
          ],
          "surface": [
           {
            "colorbar": {
             "outlinewidth": 0,
             "ticks": ""
            },
            "colorscale": [
             [
              0,
              "#0d0887"
             ],
             [
              0.1111111111111111,
              "#46039f"
             ],
             [
              0.2222222222222222,
              "#7201a8"
             ],
             [
              0.3333333333333333,
              "#9c179e"
             ],
             [
              0.4444444444444444,
              "#bd3786"
             ],
             [
              0.5555555555555556,
              "#d8576b"
             ],
             [
              0.6666666666666666,
              "#ed7953"
             ],
             [
              0.7777777777777778,
              "#fb9f3a"
             ],
             [
              0.8888888888888888,
              "#fdca26"
             ],
             [
              1,
              "#f0f921"
             ]
            ],
            "type": "surface"
           }
          ],
          "table": [
           {
            "cells": {
             "fill": {
              "color": "#EBF0F8"
             },
             "line": {
              "color": "white"
             }
            },
            "header": {
             "fill": {
              "color": "#C8D4E3"
             },
             "line": {
              "color": "white"
             }
            },
            "type": "table"
           }
          ]
         },
         "layout": {
          "annotationdefaults": {
           "arrowcolor": "#2a3f5f",
           "arrowhead": 0,
           "arrowwidth": 1
          },
          "coloraxis": {
           "colorbar": {
            "outlinewidth": 0,
            "ticks": ""
           }
          },
          "colorscale": {
           "diverging": [
            [
             0,
             "#8e0152"
            ],
            [
             0.1,
             "#c51b7d"
            ],
            [
             0.2,
             "#de77ae"
            ],
            [
             0.3,
             "#f1b6da"
            ],
            [
             0.4,
             "#fde0ef"
            ],
            [
             0.5,
             "#f7f7f7"
            ],
            [
             0.6,
             "#e6f5d0"
            ],
            [
             0.7,
             "#b8e186"
            ],
            [
             0.8,
             "#7fbc41"
            ],
            [
             0.9,
             "#4d9221"
            ],
            [
             1,
             "#276419"
            ]
           ],
           "sequential": [
            [
             0,
             "#0d0887"
            ],
            [
             0.1111111111111111,
             "#46039f"
            ],
            [
             0.2222222222222222,
             "#7201a8"
            ],
            [
             0.3333333333333333,
             "#9c179e"
            ],
            [
             0.4444444444444444,
             "#bd3786"
            ],
            [
             0.5555555555555556,
             "#d8576b"
            ],
            [
             0.6666666666666666,
             "#ed7953"
            ],
            [
             0.7777777777777778,
             "#fb9f3a"
            ],
            [
             0.8888888888888888,
             "#fdca26"
            ],
            [
             1,
             "#f0f921"
            ]
           ],
           "sequentialminus": [
            [
             0,
             "#0d0887"
            ],
            [
             0.1111111111111111,
             "#46039f"
            ],
            [
             0.2222222222222222,
             "#7201a8"
            ],
            [
             0.3333333333333333,
             "#9c179e"
            ],
            [
             0.4444444444444444,
             "#bd3786"
            ],
            [
             0.5555555555555556,
             "#d8576b"
            ],
            [
             0.6666666666666666,
             "#ed7953"
            ],
            [
             0.7777777777777778,
             "#fb9f3a"
            ],
            [
             0.8888888888888888,
             "#fdca26"
            ],
            [
             1,
             "#f0f921"
            ]
           ]
          },
          "colorway": [
           "#636efa",
           "#EF553B",
           "#00cc96",
           "#ab63fa",
           "#FFA15A",
           "#19d3f3",
           "#FF6692",
           "#B6E880",
           "#FF97FF",
           "#FECB52"
          ],
          "font": {
           "color": "#2a3f5f"
          },
          "geo": {
           "bgcolor": "white",
           "lakecolor": "white",
           "landcolor": "#E5ECF6",
           "showlakes": true,
           "showland": true,
           "subunitcolor": "white"
          },
          "hoverlabel": {
           "align": "left"
          },
          "hovermode": "closest",
          "mapbox": {
           "style": "light"
          },
          "paper_bgcolor": "white",
          "plot_bgcolor": "#E5ECF6",
          "polar": {
           "angularaxis": {
            "gridcolor": "white",
            "linecolor": "white",
            "ticks": ""
           },
           "bgcolor": "#E5ECF6",
           "radialaxis": {
            "gridcolor": "white",
            "linecolor": "white",
            "ticks": ""
           }
          },
          "scene": {
           "xaxis": {
            "backgroundcolor": "#E5ECF6",
            "gridcolor": "white",
            "gridwidth": 2,
            "linecolor": "white",
            "showbackground": true,
            "ticks": "",
            "zerolinecolor": "white"
           },
           "yaxis": {
            "backgroundcolor": "#E5ECF6",
            "gridcolor": "white",
            "gridwidth": 2,
            "linecolor": "white",
            "showbackground": true,
            "ticks": "",
            "zerolinecolor": "white"
           },
           "zaxis": {
            "backgroundcolor": "#E5ECF6",
            "gridcolor": "white",
            "gridwidth": 2,
            "linecolor": "white",
            "showbackground": true,
            "ticks": "",
            "zerolinecolor": "white"
           }
          },
          "shapedefaults": {
           "line": {
            "color": "#2a3f5f"
           }
          },
          "ternary": {
           "aaxis": {
            "gridcolor": "white",
            "linecolor": "white",
            "ticks": ""
           },
           "baxis": {
            "gridcolor": "white",
            "linecolor": "white",
            "ticks": ""
           },
           "bgcolor": "#E5ECF6",
           "caxis": {
            "gridcolor": "white",
            "linecolor": "white",
            "ticks": ""
           }
          },
          "title": {
           "x": 0.05
          },
          "xaxis": {
           "automargin": true,
           "gridcolor": "white",
           "linecolor": "white",
           "ticks": "",
           "title": {
            "standoff": 15
           },
           "zerolinecolor": "white",
           "zerolinewidth": 2
          },
          "yaxis": {
           "automargin": true,
           "gridcolor": "white",
           "linecolor": "white",
           "ticks": "",
           "title": {
            "standoff": 15
           },
           "zerolinecolor": "white",
           "zerolinewidth": 2
          }
         }
        }
       }
      },
      "text/html": [
       "<div>\n",
       "        \n",
       "        \n",
       "            <div id=\"76422b76-8002-4b29-ad0d-090249effb9e\" class=\"plotly-graph-div\" style=\"height:525px; width:100%;\"></div>\n",
       "            <script type=\"text/javascript\">\n",
       "                require([\"plotly\"], function(Plotly) {\n",
       "                    window.PLOTLYENV=window.PLOTLYENV || {};\n",
       "                    \n",
       "                if (document.getElementById(\"76422b76-8002-4b29-ad0d-090249effb9e\")) {\n",
       "                    Plotly.newPlot(\n",
       "                        '76422b76-8002-4b29-ad0d-090249effb9e',\n",
       "                        [{\"type\": \"bar\", \"x\": [\"No\", \"Yes\"], \"y\": [1233, 237]}],\n",
       "                        {\"template\": {\"data\": {\"bar\": [{\"error_x\": {\"color\": \"#2a3f5f\"}, \"error_y\": {\"color\": \"#2a3f5f\"}, \"marker\": {\"line\": {\"color\": \"#E5ECF6\", \"width\": 0.5}}, \"type\": \"bar\"}], \"barpolar\": [{\"marker\": {\"line\": {\"color\": \"#E5ECF6\", \"width\": 0.5}}, \"type\": \"barpolar\"}], \"carpet\": [{\"aaxis\": {\"endlinecolor\": \"#2a3f5f\", \"gridcolor\": \"white\", \"linecolor\": \"white\", \"minorgridcolor\": \"white\", \"startlinecolor\": \"#2a3f5f\"}, \"baxis\": {\"endlinecolor\": \"#2a3f5f\", \"gridcolor\": \"white\", \"linecolor\": \"white\", \"minorgridcolor\": \"white\", \"startlinecolor\": \"#2a3f5f\"}, \"type\": \"carpet\"}], \"choropleth\": [{\"colorbar\": {\"outlinewidth\": 0, \"ticks\": \"\"}, \"type\": \"choropleth\"}], \"contour\": [{\"colorbar\": {\"outlinewidth\": 0, \"ticks\": \"\"}, \"colorscale\": [[0.0, \"#0d0887\"], [0.1111111111111111, \"#46039f\"], [0.2222222222222222, \"#7201a8\"], [0.3333333333333333, \"#9c179e\"], [0.4444444444444444, \"#bd3786\"], [0.5555555555555556, \"#d8576b\"], [0.6666666666666666, \"#ed7953\"], [0.7777777777777778, \"#fb9f3a\"], [0.8888888888888888, \"#fdca26\"], [1.0, \"#f0f921\"]], \"type\": \"contour\"}], \"contourcarpet\": [{\"colorbar\": {\"outlinewidth\": 0, \"ticks\": \"\"}, \"type\": \"contourcarpet\"}], \"heatmap\": [{\"colorbar\": {\"outlinewidth\": 0, \"ticks\": \"\"}, \"colorscale\": [[0.0, \"#0d0887\"], [0.1111111111111111, \"#46039f\"], [0.2222222222222222, \"#7201a8\"], [0.3333333333333333, \"#9c179e\"], [0.4444444444444444, \"#bd3786\"], [0.5555555555555556, \"#d8576b\"], [0.6666666666666666, \"#ed7953\"], [0.7777777777777778, \"#fb9f3a\"], [0.8888888888888888, \"#fdca26\"], [1.0, \"#f0f921\"]], \"type\": \"heatmap\"}], \"heatmapgl\": [{\"colorbar\": {\"outlinewidth\": 0, \"ticks\": \"\"}, \"colorscale\": [[0.0, \"#0d0887\"], [0.1111111111111111, \"#46039f\"], [0.2222222222222222, \"#7201a8\"], [0.3333333333333333, \"#9c179e\"], [0.4444444444444444, \"#bd3786\"], [0.5555555555555556, \"#d8576b\"], [0.6666666666666666, \"#ed7953\"], [0.7777777777777778, \"#fb9f3a\"], [0.8888888888888888, \"#fdca26\"], [1.0, \"#f0f921\"]], \"type\": \"heatmapgl\"}], \"histogram\": [{\"marker\": {\"colorbar\": {\"outlinewidth\": 0, \"ticks\": \"\"}}, \"type\": \"histogram\"}], \"histogram2d\": [{\"colorbar\": {\"outlinewidth\": 0, \"ticks\": \"\"}, \"colorscale\": [[0.0, \"#0d0887\"], [0.1111111111111111, \"#46039f\"], [0.2222222222222222, \"#7201a8\"], [0.3333333333333333, \"#9c179e\"], [0.4444444444444444, \"#bd3786\"], [0.5555555555555556, \"#d8576b\"], [0.6666666666666666, \"#ed7953\"], [0.7777777777777778, \"#fb9f3a\"], [0.8888888888888888, \"#fdca26\"], [1.0, \"#f0f921\"]], \"type\": \"histogram2d\"}], \"histogram2dcontour\": [{\"colorbar\": {\"outlinewidth\": 0, \"ticks\": \"\"}, \"colorscale\": [[0.0, \"#0d0887\"], [0.1111111111111111, \"#46039f\"], [0.2222222222222222, \"#7201a8\"], [0.3333333333333333, \"#9c179e\"], [0.4444444444444444, \"#bd3786\"], [0.5555555555555556, \"#d8576b\"], [0.6666666666666666, \"#ed7953\"], [0.7777777777777778, \"#fb9f3a\"], [0.8888888888888888, \"#fdca26\"], [1.0, \"#f0f921\"]], \"type\": \"histogram2dcontour\"}], \"mesh3d\": [{\"colorbar\": {\"outlinewidth\": 0, \"ticks\": \"\"}, \"type\": \"mesh3d\"}], \"parcoords\": [{\"line\": {\"colorbar\": {\"outlinewidth\": 0, \"ticks\": \"\"}}, \"type\": \"parcoords\"}], \"pie\": [{\"automargin\": true, \"type\": \"pie\"}], \"scatter\": [{\"marker\": {\"colorbar\": {\"outlinewidth\": 0, \"ticks\": \"\"}}, \"type\": \"scatter\"}], \"scatter3d\": [{\"line\": {\"colorbar\": {\"outlinewidth\": 0, \"ticks\": \"\"}}, \"marker\": {\"colorbar\": {\"outlinewidth\": 0, \"ticks\": \"\"}}, \"type\": \"scatter3d\"}], \"scattercarpet\": [{\"marker\": {\"colorbar\": {\"outlinewidth\": 0, \"ticks\": \"\"}}, \"type\": \"scattercarpet\"}], \"scattergeo\": [{\"marker\": {\"colorbar\": {\"outlinewidth\": 0, \"ticks\": \"\"}}, \"type\": \"scattergeo\"}], \"scattergl\": [{\"marker\": {\"colorbar\": {\"outlinewidth\": 0, \"ticks\": \"\"}}, \"type\": \"scattergl\"}], \"scattermapbox\": [{\"marker\": {\"colorbar\": {\"outlinewidth\": 0, \"ticks\": \"\"}}, \"type\": \"scattermapbox\"}], \"scatterpolar\": [{\"marker\": {\"colorbar\": {\"outlinewidth\": 0, \"ticks\": \"\"}}, \"type\": \"scatterpolar\"}], \"scatterpolargl\": [{\"marker\": {\"colorbar\": {\"outlinewidth\": 0, \"ticks\": \"\"}}, \"type\": \"scatterpolargl\"}], \"scatterternary\": [{\"marker\": {\"colorbar\": {\"outlinewidth\": 0, \"ticks\": \"\"}}, \"type\": \"scatterternary\"}], \"surface\": [{\"colorbar\": {\"outlinewidth\": 0, \"ticks\": \"\"}, \"colorscale\": [[0.0, \"#0d0887\"], [0.1111111111111111, \"#46039f\"], [0.2222222222222222, \"#7201a8\"], [0.3333333333333333, \"#9c179e\"], [0.4444444444444444, \"#bd3786\"], [0.5555555555555556, \"#d8576b\"], [0.6666666666666666, \"#ed7953\"], [0.7777777777777778, \"#fb9f3a\"], [0.8888888888888888, \"#fdca26\"], [1.0, \"#f0f921\"]], \"type\": \"surface\"}], \"table\": [{\"cells\": {\"fill\": {\"color\": \"#EBF0F8\"}, \"line\": {\"color\": \"white\"}}, \"header\": {\"fill\": {\"color\": \"#C8D4E3\"}, \"line\": {\"color\": \"white\"}}, \"type\": \"table\"}]}, \"layout\": {\"annotationdefaults\": {\"arrowcolor\": \"#2a3f5f\", \"arrowhead\": 0, \"arrowwidth\": 1}, \"coloraxis\": {\"colorbar\": {\"outlinewidth\": 0, \"ticks\": \"\"}}, \"colorscale\": {\"diverging\": [[0, \"#8e0152\"], [0.1, \"#c51b7d\"], [0.2, \"#de77ae\"], [0.3, \"#f1b6da\"], [0.4, \"#fde0ef\"], [0.5, \"#f7f7f7\"], [0.6, \"#e6f5d0\"], [0.7, \"#b8e186\"], [0.8, \"#7fbc41\"], [0.9, \"#4d9221\"], [1, \"#276419\"]], \"sequential\": [[0.0, \"#0d0887\"], [0.1111111111111111, \"#46039f\"], [0.2222222222222222, \"#7201a8\"], [0.3333333333333333, \"#9c179e\"], [0.4444444444444444, \"#bd3786\"], [0.5555555555555556, \"#d8576b\"], [0.6666666666666666, \"#ed7953\"], [0.7777777777777778, \"#fb9f3a\"], [0.8888888888888888, \"#fdca26\"], [1.0, \"#f0f921\"]], \"sequentialminus\": [[0.0, \"#0d0887\"], [0.1111111111111111, \"#46039f\"], [0.2222222222222222, \"#7201a8\"], [0.3333333333333333, \"#9c179e\"], [0.4444444444444444, \"#bd3786\"], [0.5555555555555556, \"#d8576b\"], [0.6666666666666666, \"#ed7953\"], [0.7777777777777778, \"#fb9f3a\"], [0.8888888888888888, \"#fdca26\"], [1.0, \"#f0f921\"]]}, \"colorway\": [\"#636efa\", \"#EF553B\", \"#00cc96\", \"#ab63fa\", \"#FFA15A\", \"#19d3f3\", \"#FF6692\", \"#B6E880\", \"#FF97FF\", \"#FECB52\"], \"font\": {\"color\": \"#2a3f5f\"}, \"geo\": {\"bgcolor\": \"white\", \"lakecolor\": \"white\", \"landcolor\": \"#E5ECF6\", \"showlakes\": true, \"showland\": true, \"subunitcolor\": \"white\"}, \"hoverlabel\": {\"align\": \"left\"}, \"hovermode\": \"closest\", \"mapbox\": {\"style\": \"light\"}, \"paper_bgcolor\": \"white\", \"plot_bgcolor\": \"#E5ECF6\", \"polar\": {\"angularaxis\": {\"gridcolor\": \"white\", \"linecolor\": \"white\", \"ticks\": \"\"}, \"bgcolor\": \"#E5ECF6\", \"radialaxis\": {\"gridcolor\": \"white\", \"linecolor\": \"white\", \"ticks\": \"\"}}, \"scene\": {\"xaxis\": {\"backgroundcolor\": \"#E5ECF6\", \"gridcolor\": \"white\", \"gridwidth\": 2, \"linecolor\": \"white\", \"showbackground\": true, \"ticks\": \"\", \"zerolinecolor\": \"white\"}, \"yaxis\": {\"backgroundcolor\": \"#E5ECF6\", \"gridcolor\": \"white\", \"gridwidth\": 2, \"linecolor\": \"white\", \"showbackground\": true, \"ticks\": \"\", \"zerolinecolor\": \"white\"}, \"zaxis\": {\"backgroundcolor\": \"#E5ECF6\", \"gridcolor\": \"white\", \"gridwidth\": 2, \"linecolor\": \"white\", \"showbackground\": true, \"ticks\": \"\", \"zerolinecolor\": \"white\"}}, \"shapedefaults\": {\"line\": {\"color\": \"#2a3f5f\"}}, \"ternary\": {\"aaxis\": {\"gridcolor\": \"white\", \"linecolor\": \"white\", \"ticks\": \"\"}, \"baxis\": {\"gridcolor\": \"white\", \"linecolor\": \"white\", \"ticks\": \"\"}, \"bgcolor\": \"#E5ECF6\", \"caxis\": {\"gridcolor\": \"white\", \"linecolor\": \"white\", \"ticks\": \"\"}}, \"title\": {\"x\": 0.05}, \"xaxis\": {\"automargin\": true, \"gridcolor\": \"white\", \"linecolor\": \"white\", \"ticks\": \"\", \"title\": {\"standoff\": 15}, \"zerolinecolor\": \"white\", \"zerolinewidth\": 2}, \"yaxis\": {\"automargin\": true, \"gridcolor\": \"white\", \"linecolor\": \"white\", \"ticks\": \"\", \"title\": {\"standoff\": 15}, \"zerolinecolor\": \"white\", \"zerolinewidth\": 2}}}},\n",
       "                        {\"responsive\": true}\n",
       "                    ).then(function(){\n",
       "                            \n",
       "var gd = document.getElementById('76422b76-8002-4b29-ad0d-090249effb9e');\n",
       "var x = new MutationObserver(function (mutations, observer) {{\n",
       "        var display = window.getComputedStyle(gd).display;\n",
       "        if (!display || display === 'none') {{\n",
       "            console.log([gd, 'removed!']);\n",
       "            Plotly.purge(gd);\n",
       "            observer.disconnect();\n",
       "        }}\n",
       "}});\n",
       "\n",
       "// Listen for the removal of the full notebook cells\n",
       "var notebookContainer = gd.closest('#notebook-container');\n",
       "if (notebookContainer) {{\n",
       "    x.observe(notebookContainer, {childList: true});\n",
       "}}\n",
       "\n",
       "// Listen for the clearing of the current output cell\n",
       "var outputEl = gd.closest('.output');\n",
       "if (outputEl) {{\n",
       "    x.observe(outputEl, {childList: true});\n",
       "}}\n",
       "\n",
       "                        })\n",
       "                };\n",
       "                });\n",
       "            </script>\n",
       "        </div>"
      ]
     },
     "metadata": {},
     "output_type": "display_data"
    }
   ],
   "source": [
    "data = [go.Bar(\n",
    "            x=attrition[\"Attrition\"].value_counts().index.values,\n",
    "            y= attrition[\"Attrition\"].value_counts().values\n",
    "    )]\n",
    "\n",
    "py.iplot(data, filename='basic-bar')"
   ]
  },
  {
   "cell_type": "markdown",
   "metadata": {},
   "source": [
    "# 4. Implementing Machine Learning Models"
   ]
  },
  {
   "cell_type": "code",
   "execution_count": 21,
   "metadata": {},
   "outputs": [],
   "source": [
    "from sklearn.model_selection import train_test_split\n",
    "from sklearn.model_selection import StratifiedShuffleSplit"
   ]
  },
  {
   "cell_type": "code",
   "execution_count": 22,
   "metadata": {},
   "outputs": [],
   "source": [
    "train, test, target_train, target_val = train_test_split(attrition_final, \n",
    "                                                         target, \n",
    "                                                         train_size= 0.80,\n",
    "                                                         random_state=0);"
   ]
  },
  {
   "cell_type": "code",
   "execution_count": 28,
   "metadata": {},
   "outputs": [
    {
     "name": "stdout",
     "output_type": "stream",
     "text": [
      "Collecting imbalanced-learn\n",
      "  Using cached imbalanced_learn-0.7.0-py3-none-any.whl (167 kB)\n",
      "Requirement already satisfied: scikit-learn>=0.23 in c:\\users\\ranjani\\anaconda3\\lib\\site-packages (from imbalanced-learn) (0.23.1)\n",
      "Requirement already satisfied: scipy>=0.19.1 in c:\\users\\ranjani\\anaconda3\\lib\\site-packages (from imbalanced-learn) (1.4.1)\n",
      "Requirement already satisfied: numpy>=1.13.3 in c:\\users\\ranjani\\anaconda3\\lib\\site-packages (from imbalanced-learn) (1.18.1)\n",
      "Requirement already satisfied: joblib>=0.11 in c:\\users\\ranjani\\anaconda3\\lib\\site-packages (from imbalanced-learn) (0.14.1)\n",
      "Requirement already satisfied: threadpoolctl>=2.0.0 in c:\\users\\ranjani\\anaconda3\\lib\\site-packages (from scikit-learn>=0.23->imbalanced-learn) (2.1.0)\n",
      "Installing collected packages: imbalanced-learn\n",
      "Successfully installed imbalanced-learn-0.7.0\n"
     ]
    }
   ],
   "source": [
    "!pip install imbalanced-learn"
   ]
  },
  {
   "cell_type": "code",
   "execution_count": 31,
   "metadata": {},
   "outputs": [
    {
     "name": "stdout",
     "output_type": "stream",
     "text": [
      "Collecting imblearn\n",
      "  Downloading imblearn-0.0-py2.py3-none-any.whl (1.9 kB)\n",
      "Requirement already satisfied, skipping upgrade: imbalanced-learn in c:\\users\\ranjani\\anaconda3\\lib\\site-packages (from imblearn) (0.7.0)\n",
      "Requirement already satisfied, skipping upgrade: joblib>=0.11 in c:\\users\\ranjani\\anaconda3\\lib\\site-packages (from imbalanced-learn->imblearn) (0.14.1)\n",
      "Requirement already satisfied, skipping upgrade: numpy>=1.13.3 in c:\\users\\ranjani\\anaconda3\\lib\\site-packages (from imbalanced-learn->imblearn) (1.18.1)\n",
      "Requirement already satisfied, skipping upgrade: scikit-learn>=0.23 in c:\\users\\ranjani\\anaconda3\\lib\\site-packages (from imbalanced-learn->imblearn) (0.23.1)\n",
      "Requirement already satisfied, skipping upgrade: scipy>=0.19.1 in c:\\users\\ranjani\\anaconda3\\lib\\site-packages (from imbalanced-learn->imblearn) (1.4.1)\n",
      "Requirement already satisfied, skipping upgrade: threadpoolctl>=2.0.0 in c:\\users\\ranjani\\anaconda3\\lib\\site-packages (from scikit-learn>=0.23->imbalanced-learn->imblearn) (2.1.0)\n",
      "Installing collected packages: imblearn\n",
      "Successfully installed imblearn-0.0\n"
     ]
    }
   ],
   "source": [
    "!pip install imblearn -U"
   ]
  },
  {
   "cell_type": "code",
   "execution_count": 32,
   "metadata": {},
   "outputs": [],
   "source": [
    "from sklearn.ensemble import RandomForestClassifier, GradientBoostingClassifier\n",
    "from sklearn.linear_model import LogisticRegression\n",
    "from sklearn.metrics import (accuracy_score, log_loss, classification_report)\n",
    "from imblearn.over_sampling import SMOTE\n",
    "import xgboost"
   ]
  },
  {
   "cell_type": "code",
   "execution_count": 38,
   "metadata": {},
   "outputs": [],
   "source": [
    "seed = 0\n",
    "# Random Forest parameters\n",
    "rf_params = {\n",
    "    'n_jobs': -1,\n",
    "    'n_estimators': 1000,\n",
    "#     'warm_start': True, \n",
    "    'max_features': 0.3,\n",
    "    'max_depth': 4,\n",
    "    'min_samples_leaf': 2,\n",
    "    'max_features' : 'sqrt',\n",
    "    'random_state' : seed,\n",
    "    'verbose': 0\n",
    "}"
   ]
  },
  {
   "cell_type": "code",
   "execution_count": 39,
   "metadata": {},
   "outputs": [],
   "source": [
    "rf = RandomForestClassifier(**rf_params)"
   ]
  },
  {
   "cell_type": "code",
   "execution_count": 41,
   "metadata": {},
   "outputs": [
    {
     "name": "stdout",
     "output_type": "stream",
     "text": [
      "Fitting of Random Forest finished\n"
     ]
    }
   ],
   "source": [
    "rf.fit(train,target_train)\n",
    "print(\"Fitting of Random Forest finished\")"
   ]
  },
  {
   "cell_type": "code",
   "execution_count": 43,
   "metadata": {},
   "outputs": [
    {
     "name": "stdout",
     "output_type": "stream",
     "text": [
      "Predictions finished\n"
     ]
    }
   ],
   "source": [
    "rf_predictions = rf.predict(test)\n",
    "print(\"Predictions finished\")"
   ]
  },
  {
   "cell_type": "code",
   "execution_count": 44,
   "metadata": {},
   "outputs": [
    {
     "name": "stdout",
     "output_type": "stream",
     "text": [
      "Accuracy score: 0.8367346938775511\n",
      "================================================================================\n",
      "              precision    recall  f1-score   support\n",
      "\n",
      "           0       0.84      1.00      0.91       245\n",
      "           1       0.67      0.04      0.08        49\n",
      "\n",
      "    accuracy                           0.84       294\n",
      "   macro avg       0.75      0.52      0.49       294\n",
      "weighted avg       0.81      0.84      0.77       294\n",
      "\n"
     ]
    }
   ],
   "source": [
    "print(\"Accuracy score: {}\".format(accuracy_score(target_val, rf_predictions)))\n",
    "print(\"=\"*80)\n",
    "print(classification_report(target_val, rf_predictions))"
   ]
  },
  {
   "cell_type": "code",
   "execution_count": 45,
   "metadata": {},
   "outputs": [],
   "source": [
    "gb_params ={\n",
    "    'n_estimators': 1500,\n",
    "    'max_features': 0.9,\n",
    "    'learning_rate' : 0.25,\n",
    "    'max_depth': 4,\n",
    "    'min_samples_leaf': 2,\n",
    "    'subsample': 1,\n",
    "    'max_features' : 'sqrt',\n",
    "    'random_state' : seed,\n",
    "    'verbose': 0\n",
    "}"
   ]
  },
  {
   "cell_type": "code",
   "execution_count": 46,
   "metadata": {},
   "outputs": [
    {
     "name": "stdout",
     "output_type": "stream",
     "text": [
      "Predictions have finished\n"
     ]
    }
   ],
   "source": [
    "gb = GradientBoostingClassifier(**gb_params)\n",
    "\n",
    "gb.fit(train,target_train)\n",
    "\n",
    "gb_predictions = gb.predict(test)\n",
    "print(\"Predictions have finished\")"
   ]
  },
  {
   "cell_type": "code",
   "execution_count": 47,
   "metadata": {},
   "outputs": [
    {
     "name": "stdout",
     "output_type": "stream",
     "text": [
      "0.8707482993197279\n",
      "              precision    recall  f1-score   support\n",
      "\n",
      "           0       0.88      0.98      0.93       245\n",
      "           1       0.79      0.31      0.44        49\n",
      "\n",
      "    accuracy                           0.87       294\n",
      "   macro avg       0.83      0.64      0.68       294\n",
      "weighted avg       0.86      0.87      0.85       294\n",
      "\n"
     ]
    }
   ],
   "source": [
    "print(accuracy_score(target_val, gb_predictions))\n",
    "print(classification_report(target_val, gb_predictions))"
   ]
  },
  {
   "cell_type": "markdown",
   "metadata": {},
   "source": [
    "## CONCLUSION"
   ]
  },
  {
   "cell_type": "markdown",
   "metadata": {},
   "source": [
    "We have constructed a very simple pipeline of predicting employee attrition, from some basic Exploratory Data Analysis to feature engineering as well as implementing two learning models in the form of a Random Forest and a Gradient Boosting classifier. This whole notebook takes less than a minute to run and it even returns a 87% accuracy in its predictions.\n",
    "\n",
    "Drop the Attrition_numerical column from attrition dataset first - Don't want to include that\n",
    "\n",
    "Conclusion from Data Visualisation \n",
    "\n",
    "1)Age by Gender: The average age of females is 37.33 and for males is 36.65 and both distributions are similar.\n",
    "2)Job Satisfaction by Gender: For individuals who didn't leave the organization, job satisfaction levels are practically the same. However, for people who left the organization , females had a lower satisfaction level as opposed to males.\n",
    "3)Salaries: The average salaries for both genders are practically the same with males having an average of 6380.51 and females 6686.57\n",
    "4)Departments: There are a higher number of males in the three departments however, females are more predominant in the Research and Development department.\n",
    "5)The people who's age is greater than 30 years has a lot of experience.So people who's age is greater than 30 have a low rate of leaving the company.\n",
    "6)Employees who quit the organization: For these type of employees we see that the boomers had a higher number of companies previously worked at.\n",
    "7)Millenials: Most millenials are still relatively young, so that explains why the number of companies for millenials is relatively low however, I expect this number to increase as the years pass by.\n",
    "8)Attrition by Generation: It seems that millenials are the ones with the highest turnover rate, followed by the boomers. What does this tell us? The newer generation which are the millenials opt to look more easy for other jobs that satisfy the needs on the other side we have the boomers which are approximating retirement and could be one of the reasons why the turnover rate of boomers is the second highest.\n",
    "9)Attrition by Level of Education: This goes hand in hand with the previous statement, as bachelors are the ones showing the highest level of attrition which makes sense since Millenials create the highest turnover rate inside the organization.\n",
    "10)Income by Departments: Wow! We can see huge differences in each department by attrition status.\n",
    "11)Income by Job Satisfaction: Hmm. It seems the lower the job satisfaction the wider the gap by attrition status in the levels of income.\n",
    "12)Attrition sample population: I would say that most of this sample population has had a salary increase of less than 15% and a monthly income of less than 7,000\n",
    "13)Exhaustion at Work: Over 54% of workers who left the organization worked overtime! Will this be a reason why employees are leaving?\n",
    "14)Differences in the DailyRate: HealthCare Representatives , Sales Representatives , and Research Scientists have the biggest daily rates differences in terms of employees who quit or didn't quit the organization. This might indicate that at least for the these roles, the sample population that left the organization was mainly because of income."
   ]
  },
  {
   "cell_type": "code",
   "execution_count": null,
   "metadata": {},
   "outputs": [],
   "source": []
  }
 ],
 "metadata": {
  "kernelspec": {
   "display_name": "Python 3",
   "language": "python",
   "name": "python3"
  },
  "language_info": {
   "codemirror_mode": {
    "name": "ipython",
    "version": 3
   },
   "file_extension": ".py",
   "mimetype": "text/x-python",
   "name": "python",
   "nbconvert_exporter": "python",
   "pygments_lexer": "ipython3",
   "version": "3.7.3"
  }
 },
 "nbformat": 4,
 "nbformat_minor": 4
}
